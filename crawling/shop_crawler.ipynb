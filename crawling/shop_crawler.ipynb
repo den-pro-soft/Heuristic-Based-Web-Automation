{
 "cells": [
  {
   "cell_type": "code",
   "execution_count": null,
   "metadata": {},
   "outputs": [],
   "source": [
    "import random\n",
    "import csv\n",
    "import logging\n",
    "\n",
    "from shop_crawler import *\n",
    "import common_actors"
   ]
  },
  {
   "cell_type": "markdown",
   "metadata": {},
   "source": [
    "### Prepare different urls to analyze"
   ]
  },
  {
   "cell_type": "code",
   "execution_count": null,
   "metadata": {},
   "outputs": [],
   "source": [
    "# All urls\n",
    "all_urls = []\n",
    "with open('../resources/pvio_vio_us_ca_uk_sample1.csv', 'r') as f:\n",
    "    rows = csv.reader(f)\n",
    "    for row in rows:\n",
    "        url = row[0]\n",
    "        if url:\n",
    "            all_urls.append(url)\n",
    "\n",
    "# Random sample urls\n",
    "random.seed(1)\n",
    "sample_urls = random.sample(all_urls, 100)\n",
    "\n",
    "# Some good urls to analyze by hands\n",
    "good_urls = [\n",
    "    'curlebotanicals.com',\n",
    "    'theglamourshop.com',\n",
    "    'vape-fuel.com',\n",
    "    'firstfitness.com',\n",
    "    'sandlakedermatology.com',\n",
    "    'getwaave.com',\n",
    "    'dixieems.com',\n",
    "    'jonessurgical.com',\n",
    "    'srandd.com',\n",
    "    'ambarygardens.com',\n",
    "    'anabolicwarfare.com'\n",
    "]"
   ]
  },
  {
   "cell_type": "markdown",
   "metadata": {},
   "source": [
    "### Mock user and payment information"
   ]
  },
  {
   "cell_type": "code",
   "execution_count": null,
   "metadata": {},
   "outputs": [],
   "source": [
    "user_info = UserInfo(\n",
    "    first_name = 'John',\n",
    "    last_name = 'Smith',\n",
    "    country = 'United States',\n",
    "    home = 34,\n",
    "    street = 'Ocean drive',\n",
    "    city = 'Miami',\n",
    "    zip = '33125',\n",
    "    state = 'FLorida',\n",
    "    \n",
    "    phone = '1231232',\n",
    "    email = 'john@service.com'\n",
    ")\n",
    "\n",
    "billing_info = PaymentInfo(\n",
    "    card_number = '1413232312312321',\n",
    "    expire_date_year = 2020,\n",
    "    expire_date_month = 12,\n",
    "    cvc = '123'\n",
    ")"
   ]
  },
  {
   "cell_type": "markdown",
   "metadata": {},
   "source": [
    "### Set up logging level"
   ]
  },
  {
   "cell_type": "code",
   "execution_count": null,
   "metadata": {},
   "outputs": [],
   "source": [
    "logger = logging.getLogger('shop_crawler')\n",
    "logger.setLevel(logging.INFO)\n",
    "\n",
    "handler = logging.StreamHandler()\n",
    "formatter = logging.Formatter(\n",
    "        '%(asctime)s %(name)-12s %(levelname)-8s %(message)s')\n",
    "handler.setFormatter(formatter)\n",
    "logger.addHandler(handler)"
   ]
  },
  {
   "cell_type": "markdown",
   "metadata": {},
   "source": [
    "### Start crawling for every url"
   ]
  },
  {
   "cell_type": "code",
   "execution_count": null,
   "metadata": {},
   "outputs": [],
   "source": [
    "crawler = ShopCrawler(user_info, billing_info, '/home/aleksei/dist/selenium/chromedriver', headless=True)\n",
    "common_actors.add_crawler_extensions(crawler)\n",
    "\n",
    "with crawler:\n",
    "    for url in good_urls:\n",
    "        print('\\n\\n{}'.format(url))\n",
    "        crawler.crawl(url)\n"
   ]
  }
 ],
 "metadata": {
  "kernelspec": {
   "display_name": "Python 3",
   "language": "python",
   "name": "python3"
  },
  "language_info": {
   "codemirror_mode": {
    "name": "ipython",
    "version": 3
   },
   "file_extension": ".py",
   "mimetype": "text/x-python",
   "name": "python",
   "nbconvert_exporter": "python",
   "pygments_lexer": "ipython3",
   "version": "3.6.3"
  }
 },
 "nbformat": 4,
 "nbformat_minor": 2
}
