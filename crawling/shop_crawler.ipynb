{
 "cells": [
  {
   "cell_type": "code",
   "execution_count": 1,
   "metadata": {},
   "outputs": [],
   "source": [
    "import random\n",
    "import csv\n",
    "import logging\n",
    "\n",
    "from shop_crawler import *\n",
    "from selenium_helper import *\n",
    "import common_actors\n",
    "\n",
    "from contextlib import contextmanager"
   ]
  },
  {
   "cell_type": "markdown",
   "metadata": {},
   "source": [
    "### Prepare different urls to analyze"
   ]
  },
  {
   "cell_type": "code",
   "execution_count": 2,
   "metadata": {},
   "outputs": [],
   "source": [
    "# All urls\n",
    "all_urls = []\n",
    "with open('../resources/pvio_vio_us_ca_uk_sample1.csv', 'r') as f:\n",
    "    rows = csv.reader(f)\n",
    "    for row in rows:\n",
    "        url = row[0]\n",
    "        if url:\n",
    "            all_urls.append(url)\n",
    "\n",
    "# Random sample urls\n",
    "random.seed(1)\n",
    "sample_urls = random.sample(all_urls, 100)\n",
    "\n",
    "# Some good urls to analyze by hands\n",
    "good_urls = [\n",
    "    'curlebotanicals.com',\n",
    "    'theglamourshop.com',\n",
    "    'vape-fuel.com',\n",
    "    'firstfitness.com',\n",
    "    'sandlakedermatology.com',\n",
    "    'getwaave.com',\n",
    "    'dixieems.com',\n",
    "    'jonessurgical.com',\n",
    "    'srandd.com',\n",
    "    'ambarygardens.com',\n",
    "    'anabolicwarfare.com'\n",
    "]\n"
   ]
  },
  {
   "cell_type": "markdown",
   "metadata": {},
   "source": [
    "### Mock user and payment information"
   ]
  },
  {
   "cell_type": "code",
   "execution_count": 3,
   "metadata": {},
   "outputs": [],
   "source": [
    "user_info = UserInfo(\n",
    "    first_name = 'John',\n",
    "    last_name = 'Smith',\n",
    "    country = 'United States',\n",
    "    home = 34,\n",
    "    street = 'Ocean drive',\n",
    "    city = 'Miami',\n",
    "    zip = '33125',\n",
    "    state = 'FLorida',\n",
    "    \n",
    "    phone = '1231232',\n",
    "    email = 'john@service.com'\n",
    ")\n",
    "\n",
    "billing_info = PaymentInfo(\n",
    "    card_number = '1413232312312321',\n",
    "    expire_date_year = 2020,\n",
    "    expire_date_month = 12,\n",
    "    cvc = '123'\n",
    ")"
   ]
  },
  {
   "cell_type": "code",
   "execution_count": 4,
   "metadata": {},
   "outputs": [],
   "source": [
    "selenium_path = '/home/aleksei/dist/selenium/chromedriver'\n",
    "\n",
    "@contextmanager\n",
    "def get_crawler(headless=True):\n",
    "    global user_info, billing_info, selinium_path\n",
    "    crawler = ShopCrawler(user_info, billing_info, selenium_path, headless=headless)\n",
    "    common_actors.add_crawler_extensions(crawler)\n",
    "    \n",
    "    yield crawler\n",
    "\n",
    "def get_driver(headless=True):\n",
    "    global selenium_path   \n",
    "    return create_chrome_driver(selenium_path, headless=headless)\n"
   ]
  },
  {
   "cell_type": "markdown",
   "metadata": {},
   "source": [
    "### Set up logging level"
   ]
  },
  {
   "cell_type": "code",
   "execution_count": 5,
   "metadata": {},
   "outputs": [],
   "source": [
    "logger = logging.getLogger('shop_crawler')\n",
    "logger.setLevel(logging.DEBUG)\n",
    "\n",
    "handler = logging.StreamHandler()\n",
    "formatter = logging.Formatter(\n",
    "        '%(asctime)s %(name)-12s %(levelname)-8s %(message)s')\n",
    "handler.setFormatter(formatter)\n",
    "logger.addHandler(handler)"
   ]
  },
  {
   "cell_type": "markdown",
   "metadata": {},
   "source": [
    "### Start crawling for every url"
   ]
  },
  {
   "cell_type": "code",
   "execution_count": 10,
   "metadata": {
    "scrolled": true
   },
   "outputs": [
    {
     "name": "stdout",
     "output_type": "stream",
     "text": [
      "\n",
      "\n",
      "vaporworld.biz\n",
      "Status: \"Time Out\" after processing url \"http://vaporworld.biz\"\n",
      "\n",
      "\n",
      "cvsciences.com\n"
     ]
    },
    {
     "name": "stderr",
     "output_type": "stream",
     "text": [
      "/home/aleksei/anaconda3/lib/python3.6/site-packages/urllib3/connectionpool.py:858: InsecureRequestWarning: Unverified HTTPS request is being made. Adding certificate verification is strongly advised. See: https://urllib3.readthedocs.io/en/latest/advanced-usage.html#ssl-warnings\n",
      "  InsecureRequestWarning)\n",
      "2018-07-11 12:41:53,247 shop_crawler INFO     processing state: new\n",
      "2018-07-11 12:41:53,248 shop_crawler INFO     handler <common_actors.AddToCart object at 0x7f4605c1d6d8>\n",
      "2018-07-11 12:41:54,259 shop_crawler INFO     new_state new, url https://cvsciences.com/\n",
      "2018-07-11 12:41:54,260 shop_crawler INFO     handler <common_actors.GoogleForProductPage object at 0x7f4605a67128>\n",
      "2018-07-11 12:41:56,568 shop_crawler INFO     new_state new, url https://cvsciences.com/\n",
      "2018-07-11 12:41:56,569 shop_crawler INFO     handler <common_actors.ToProductPageLink object at 0x7f4605a1f6a0>\n",
      "2018-07-11 12:41:57,692 shop_crawler INFO     new_state new, url https://cvsciences.com/\n",
      "2018-07-11 12:41:57,694 shop_crawler INFO     handler <common_actors.ToShopLink object at 0x7f4605938358>\n",
      "2018-07-11 12:41:58,288 shop_crawler DEBUG    clicking element: <a href=\"https://cvsciences.com/consumer-products/\">Consumer Products</a>\n",
      "2018-07-11 12:42:00,264 shop_crawler DEBUG    result: True\n",
      "2018-07-11 12:42:00,275 shop_crawler INFO     new_state shop, url https://cvsciences.com/consumer-products/\n",
      "2018-07-11 12:42:00,310 shop_crawler INFO     processing state: shop\n",
      "2018-07-11 12:42:00,314 shop_crawler INFO     handler <common_actors.AddToCart object at 0x7f4605c1d6d8>\n",
      "2018-07-11 12:42:01,017 shop_crawler INFO     new_state shop, url https://cvsciences.com/consumer-products/\n",
      "2018-07-11 12:42:01,018 shop_crawler INFO     handler <common_actors.GoogleForProductPage object at 0x7f4605a67128>\n",
      "2018-07-11 12:42:02,834 shop_crawler INFO     new_state shop, url https://cvsciences.com/consumer-products/\n",
      "2018-07-11 12:42:02,835 shop_crawler INFO     handler <common_actors.ToProductPageLink object at 0x7f4605a1f6a0>\n",
      "2018-07-11 12:42:03,678 shop_crawler INFO     new_state shop, url https://cvsciences.com/consumer-products/\n"
     ]
    },
    {
     "name": "stdout",
     "output_type": "stream",
     "text": [
      "Status: \"Processing Finished at State\" after processing url \"cvsciences.com\"\n",
      "\n",
      "\n",
      "walkinmycloset.com\n",
      "Status: \"Not Available\" after processing url \"http://walkinmycloset.com\"\n",
      " Domain walkinmycloset.com for sale\n",
      "\n",
      "\n",
      "blackrosevapes.com\n",
      "Status: \"Not Available\" after processing url \"http://blackrosevapes.com\"\n",
      "\n",
      "\n",
      "fourriversbirdrescue.org\n",
      "Status: \"Not Available\" after processing url \"http://fourriversbirdrescue.org\"\n",
      "\n",
      "\n",
      "trelexa.org\n",
      "Status: \"Not Available\" after processing url \"http://trelexa.org\"\n",
      "\n",
      "\n",
      "webstersoccer.com\n"
     ]
    },
    {
     "name": "stderr",
     "output_type": "stream",
     "text": [
      "2018-07-11 12:42:09,973 shop_crawler INFO     processing state: new\n",
      "2018-07-11 12:42:09,975 shop_crawler INFO     handler <common_actors.AddToCart object at 0x7f4605c1d6d8>\n",
      "2018-07-11 12:42:15,752 shop_crawler INFO     new_state new, url http://www.lakefrontsc.com/\n",
      "2018-07-11 12:42:15,754 shop_crawler INFO     handler <common_actors.GoogleForProductPage object at 0x7f4605a67128>\n",
      "2018-07-11 12:42:17,478 shop_crawler INFO     new_state new, url http://www.lakefrontsc.com/\n",
      "2018-07-11 12:42:17,479 shop_crawler INFO     handler <common_actors.ToProductPageLink object at 0x7f4605a1f6a0>\n",
      "2018-07-11 12:42:21,084 shop_crawler DEBUG    Exception during checking element Traceback (most recent call last):\n",
      "  File \"/home/aleksei/work/projects/g2/trace_automation/crawling/selenium_helper.py\", line 29, in can_click\n",
      "    return element.is_enabled() and element.is_displayed()\n",
      "  File \"/home/aleksei/anaconda3/lib/python3.6/site-packages/selenium/webdriver/remote/webelement.py\", line 159, in is_enabled\n",
      "    return self._execute(Command.IS_ELEMENT_ENABLED)['value']\n",
      "  File \"/home/aleksei/anaconda3/lib/python3.6/site-packages/selenium/webdriver/remote/webelement.py\", line 628, in _execute\n",
      "    return self._parent.execute(command, params)\n",
      "  File \"/home/aleksei/anaconda3/lib/python3.6/site-packages/selenium/webdriver/remote/webdriver.py\", line 314, in execute\n",
      "    self.error_handler.check_response(response)\n",
      "  File \"/home/aleksei/anaconda3/lib/python3.6/site-packages/selenium/webdriver/remote/errorhandler.py\", line 242, in check_response\n",
      "    raise exception_class(message, screen, stacktrace)\n",
      "selenium.common.exceptions.StaleElementReferenceException: Message: stale element reference: element is not attached to the page document\n",
      "  (Session info: chrome=66.0.3359.181)\n",
      "  (Driver info: chromedriver=2.40.565383 (76257d1ab79276b2d53ee976b2c3e3b9f335cde7),platform=Linux 4.15.0-23-generic x86_64)\n",
      "\n",
      "\n",
      "2018-07-11 12:42:21,099 shop_crawler DEBUG    Exception during checking element Traceback (most recent call last):\n",
      "  File \"/home/aleksei/work/projects/g2/trace_automation/crawling/selenium_helper.py\", line 29, in can_click\n",
      "    return element.is_enabled() and element.is_displayed()\n",
      "  File \"/home/aleksei/anaconda3/lib/python3.6/site-packages/selenium/webdriver/remote/webelement.py\", line 159, in is_enabled\n",
      "    return self._execute(Command.IS_ELEMENT_ENABLED)['value']\n",
      "  File \"/home/aleksei/anaconda3/lib/python3.6/site-packages/selenium/webdriver/remote/webelement.py\", line 628, in _execute\n",
      "    return self._parent.execute(command, params)\n",
      "  File \"/home/aleksei/anaconda3/lib/python3.6/site-packages/selenium/webdriver/remote/webdriver.py\", line 314, in execute\n",
      "    self.error_handler.check_response(response)\n",
      "  File \"/home/aleksei/anaconda3/lib/python3.6/site-packages/selenium/webdriver/remote/errorhandler.py\", line 242, in check_response\n",
      "    raise exception_class(message, screen, stacktrace)\n",
      "selenium.common.exceptions.StaleElementReferenceException: Message: stale element reference: element is not attached to the page document\n",
      "  (Session info: chrome=66.0.3359.181)\n",
      "  (Driver info: chromedriver=2.40.565383 (76257d1ab79276b2d53ee976b2c3e3b9f335cde7),platform=Linux 4.15.0-23-generic x86_64)\n",
      "\n",
      "\n",
      "2018-07-11 12:42:22,301 shop_crawler INFO     new_state new, url http://www.lakefrontsc.com/\n",
      "2018-07-11 12:42:22,302 shop_crawler INFO     handler <common_actors.ToShopLink object at 0x7f4605938358>\n",
      "2018-07-11 12:42:26,156 shop_crawler INFO     new_state new, url http://www.lakefrontsc.com/\n"
     ]
    },
    {
     "name": "stdout",
     "output_type": "stream",
     "text": [
      "Status: \"Processing Finished at State\" after processing url \"webstersoccer.com\"\n",
      "\n",
      "\n",
      "tampahumidor.com\n"
     ]
    },
    {
     "name": "stderr",
     "output_type": "stream",
     "text": [
      "/home/aleksei/anaconda3/lib/python3.6/site-packages/urllib3/connectionpool.py:858: InsecureRequestWarning: Unverified HTTPS request is being made. Adding certificate verification is strongly advised. See: https://urllib3.readthedocs.io/en/latest/advanced-usage.html#ssl-warnings\n",
      "  InsecureRequestWarning)\n"
     ]
    },
    {
     "name": "stdout",
     "output_type": "stream",
     "text": [
      "Status: \"Error 403\" after processing url \"http://tampahumidor.com\"\n",
      "\n",
      "\n",
      "gotbloody.com\n",
      "Status: \"Not Available\" after processing url \"http://gotbloody.com\"\n",
      "\n",
      "\n",
      "personalcarenow.com\n"
     ]
    },
    {
     "name": "stderr",
     "output_type": "stream",
     "text": [
      "2018-07-11 12:42:31,700 shop_crawler INFO     processing state: new\n",
      "2018-07-11 12:42:31,701 shop_crawler INFO     handler <common_actors.AddToCart object at 0x7f4605c1d6d8>\n",
      "2018-07-11 12:42:32,875 shop_crawler INFO     new_state new, url http://personalcarenow.com/\n",
      "2018-07-11 12:42:32,875 shop_crawler INFO     handler <common_actors.GoogleForProductPage object at 0x7f4605a67128>\n",
      "2018-07-11 12:42:35,832 shop_crawler INFO     new_state product_page, url http://www.personalcarenow.com/index.php?main_page=product_info&cPath=27&products_id=128&zenid=ae1ec8f89921e61a7356135efced7f7a\n",
      "2018-07-11 12:42:35,856 shop_crawler INFO     processing state: product_page\n",
      "2018-07-11 12:42:35,857 shop_crawler INFO     handler <common_actors.AddToCart object at 0x7f4605c1d6d8>\n",
      "2018-07-11 12:42:36,995 shop_crawler DEBUG    clicking element: <input class=\"cssButton button_in_cart\" onmouseover=\"this.className='cssButtonHover button_in_cart button_in_cartHover'\" onmouseout=\"this.className='cssButton button_in_cart'\" type=\"submit\" value=\"Add to Cart\">\n",
      "2018-07-11 12:42:38,447 shop_crawler DEBUG    result: True\n",
      "2018-07-11 12:42:38,461 shop_crawler INFO     new_state product_in_cart, url http://www.personalcarenow.com/index.php?main_page=shopping_cart\n",
      "2018-07-11 12:42:38,484 shop_crawler INFO     processing state: product_in_cart\n",
      "2018-07-11 12:42:38,484 shop_crawler INFO     handler <common_actors.ToCheckout object at 0x7f4605938a90>\n",
      "2018-07-11 12:42:39,576 shop_crawler DEBUG    clicking element: <a href=\"https://www.personalcarenow.com/index.php?main_page=checkout_shipping\"><span class=\"cssButton button_checkout\" onmouseover=\"this.className='cssButtonHover button_checkout button_checkoutHover'\" onmouseout=\"this.className='cssButton button_checkout'\">&nbsp;Checkout&nbsp;</span></a>\n",
      "2018-07-11 12:42:42,225 shop_crawler DEBUG    result: True\n",
      "2018-07-11 12:43:12,301 shop_crawler INFO     new_state checkout_page, url https://www.personalcarenow.com/index.php?main_page=login\n",
      "2018-07-11 12:43:12,319 shop_crawler INFO     processing state: checkout_page\n"
     ]
    },
    {
     "name": "stdout",
     "output_type": "stream",
     "text": [
      "Status: \"Processing Finished at State\" after processing url \"personalcarenow.com\"\n",
      "\n",
      "\n",
      "ladyfatemahtrust.org\n"
     ]
    },
    {
     "name": "stderr",
     "output_type": "stream",
     "text": [
      "2018-07-11 12:43:21,289 shop_crawler INFO     found 2 frames\n",
      "2018-07-11 12:43:21,289 shop_crawler INFO     processing state: new\n",
      "2018-07-11 12:43:21,290 shop_crawler INFO     handler <common_actors.AddToCart object at 0x7f4605c1d6d8>\n",
      "2018-07-11 12:43:25,906 shop_crawler INFO     new_state new, url http://www.ladyfatemahtrust.org/\n",
      "2018-07-11 12:43:25,907 shop_crawler INFO     handler <common_actors.GoogleForProductPage object at 0x7f4605a67128>\n",
      "2018-07-11 12:43:27,872 shop_crawler INFO     new_state new, url http://www.ladyfatemahtrust.org/\n",
      "2018-07-11 12:43:27,876 shop_crawler INFO     handler <common_actors.ToProductPageLink object at 0x7f4605a1f6a0>\n",
      "2018-07-11 12:43:33,688 shop_crawler INFO     new_state new, url http://www.ladyfatemahtrust.org/\n",
      "2018-07-11 12:43:33,690 shop_crawler INFO     handler <common_actors.ToShopLink object at 0x7f4605938358>\n",
      "2018-07-11 12:43:37,870 shop_crawler DEBUG    clicking element: <a target=\"_blank\" href=\"https://itunes.apple.com/us/app/lfct/id1132330820?mt=8&amp;ign-mpt=uo%3D4\"><img src=\"http://www.ladyfatemahtrust.org/wp-content/themes/custom/images/appstore.png\"></a>\n",
      "2018-07-11 12:43:40,608 shop_crawler DEBUG    result: True\n",
      "2018-07-11 12:43:40,622 shop_crawler INFO     new_state shop, url https://itunes.apple.com/us/app/lfct/id1132330820?mt=8&ign-mpt=uo%3D4\n",
      "2018-07-11 12:43:40,659 shop_crawler INFO     processing state: shop\n",
      "2018-07-11 12:43:40,661 shop_crawler INFO     handler <common_actors.AddToCart object at 0x7f4605c1d6d8>\n",
      "2018-07-11 12:43:42,092 shop_crawler INFO     new_state shop, url https://itunes.apple.com/us/app/lfct/id1132330820?mt=8&ign-mpt=uo%3D4\n",
      "2018-07-11 12:43:42,093 shop_crawler INFO     handler <common_actors.GoogleForProductPage object at 0x7f4605a67128>\n",
      "2018-07-11 12:43:44,102 shop_crawler INFO     new_state shop, url https://itunes.apple.com/us/app/lfct/id1132330820?mt=8&ign-mpt=uo%3D4\n",
      "2018-07-11 12:43:44,104 shop_crawler INFO     handler <common_actors.ToProductPageLink object at 0x7f4605a1f6a0>\n",
      "2018-07-11 12:43:45,048 shop_crawler INFO     new_state shop, url https://itunes.apple.com/us/app/lfct/id1132330820?mt=8&ign-mpt=uo%3D4\n"
     ]
    },
    {
     "name": "stdout",
     "output_type": "stream",
     "text": [
      "Status: \"Processing Finished at State\" after processing url \"ladyfatemahtrust.org\"\n",
      "\n",
      "\n",
      "the420line.com\n"
     ]
    },
    {
     "name": "stderr",
     "output_type": "stream",
     "text": [
      "2018-07-11 12:43:49,378 shop_crawler ERROR    Unexpected exception during processing http://the420line.com\n",
      "Traceback (most recent call last):\n",
      "  File \"/home/aleksei/work/projects/g2/trace_automation/crawling/shop_crawler.py\", line 262, in crawl\n",
      "    status = ShopCrawler.get(driver, url, wait_response_seconds)\n",
      "  File \"/home/aleksei/work/projects/g2/trace_automation/crawling/shop_crawler.py\", line 197, in get\n",
      "    driver.get(url)\n",
      "  File \"/home/aleksei/anaconda3/lib/python3.6/site-packages/selenium/webdriver/remote/webdriver.py\", line 326, in get\n",
      "    self.execute(Command.GET, {'url': url})\n",
      "  File \"/home/aleksei/anaconda3/lib/python3.6/site-packages/selenium/webdriver/remote/webdriver.py\", line 312, in execute\n",
      "    response = self.command_executor.execute(driver_command, params)\n",
      "  File \"/home/aleksei/anaconda3/lib/python3.6/site-packages/selenium/webdriver/remote/remote_connection.py\", line 472, in execute\n",
      "    return self._request(command_info[0], url, body=data)\n",
      "  File \"/home/aleksei/anaconda3/lib/python3.6/site-packages/selenium/webdriver/remote/remote_connection.py\", line 496, in _request\n",
      "    resp = self._conn.getresponse()\n",
      "  File \"/home/aleksei/anaconda3/lib/python3.6/http/client.py\", line 1331, in getresponse\n",
      "    response.begin()\n",
      "  File \"/home/aleksei/anaconda3/lib/python3.6/http/client.py\", line 297, in begin\n",
      "    version, status, reason = self._read_status()\n",
      "  File \"/home/aleksei/anaconda3/lib/python3.6/http/client.py\", line 258, in _read_status\n",
      "    line = str(self.fp.readline(_MAXLINE + 1), \"iso-8859-1\")\n",
      "  File \"/home/aleksei/anaconda3/lib/python3.6/socket.py\", line 586, in readinto\n",
      "    return self._sock.recv_into(b)\n",
      "KeyboardInterrupt\n"
     ]
    },
    {
     "name": "stdout",
     "output_type": "stream",
     "text": [
      "Status: \"Processing Finished at State\" after processing url \"the420line.com\"\n",
      "\n",
      "\n",
      "allsquared.com\n"
     ]
    },
    {
     "ename": "CannotSendRequest",
     "evalue": "Request-sent",
     "output_type": "error",
     "traceback": [
      "\u001b[0;31m---------------------------------------------------------------------------\u001b[0m",
      "\u001b[0;31mCannotSendRequest\u001b[0m                         Traceback (most recent call last)",
      "\u001b[0;32m<ipython-input-10-89b3dfe29f6a>\u001b[0m in \u001b[0;36m<module>\u001b[0;34m()\u001b[0m\n\u001b[1;32m      3\u001b[0m     \u001b[0;32mfor\u001b[0m \u001b[0murl\u001b[0m \u001b[0;32min\u001b[0m \u001b[0msample_urls\u001b[0m\u001b[0;34m:\u001b[0m\u001b[0;34m\u001b[0m\u001b[0m\n\u001b[1;32m      4\u001b[0m         \u001b[0mprint\u001b[0m\u001b[0;34m(\u001b[0m\u001b[0;34m'\\n\\n{}'\u001b[0m\u001b[0;34m.\u001b[0m\u001b[0mformat\u001b[0m\u001b[0;34m(\u001b[0m\u001b[0murl\u001b[0m\u001b[0;34m)\u001b[0m\u001b[0;34m)\u001b[0m\u001b[0;34m\u001b[0m\u001b[0m\n\u001b[0;32m----> 5\u001b[0;31m         \u001b[0mstatus\u001b[0m \u001b[0;34m=\u001b[0m \u001b[0mcrawler\u001b[0m\u001b[0;34m.\u001b[0m\u001b[0mcrawl\u001b[0m\u001b[0;34m(\u001b[0m\u001b[0murl\u001b[0m\u001b[0;34m,\u001b[0m \u001b[0;36m30\u001b[0m\u001b[0;34m)\u001b[0m\u001b[0;34m\u001b[0m\u001b[0m\n\u001b[0m\u001b[1;32m      6\u001b[0m         \u001b[0mprint\u001b[0m\u001b[0;34m(\u001b[0m\u001b[0mstatus\u001b[0m\u001b[0;34m)\u001b[0m\u001b[0;34m\u001b[0m\u001b[0m\n\u001b[1;32m      7\u001b[0m         \u001b[0mresults\u001b[0m\u001b[0;34m.\u001b[0m\u001b[0mappend\u001b[0m\u001b[0;34m(\u001b[0m\u001b[0mstatus\u001b[0m\u001b[0;34m)\u001b[0m\u001b[0;34m\u001b[0m\u001b[0m\n",
      "\u001b[0;32m~/work/projects/g2/trace_automation/crawling/shop_crawler.py\u001b[0m in \u001b[0;36mcrawl\u001b[0;34m(self, domain, wait_response_seconds)\u001b[0m\n\u001b[1;32m    256\u001b[0m         \u001b[0mcontext\u001b[0m \u001b[0;34m=\u001b[0m \u001b[0mStepContext\u001b[0m\u001b[0;34m(\u001b[0m\u001b[0mdomain\u001b[0m\u001b[0;34m,\u001b[0m \u001b[0mself\u001b[0m\u001b[0;34m.\u001b[0m\u001b[0m_user_info\u001b[0m\u001b[0;34m,\u001b[0m \u001b[0mself\u001b[0m\u001b[0;34m.\u001b[0m\u001b[0m_payment_info\u001b[0m\u001b[0;34m)\u001b[0m\u001b[0;34m\u001b[0m\u001b[0m\n\u001b[1;32m    257\u001b[0m \u001b[0;34m\u001b[0m\u001b[0m\n\u001b[0;32m--> 258\u001b[0;31m         \u001b[0mdriver\u001b[0m \u001b[0;34m=\u001b[0m \u001b[0mself\u001b[0m\u001b[0;34m.\u001b[0m\u001b[0mget_driver\u001b[0m\u001b[0;34m(\u001b[0m\u001b[0;34m)\u001b[0m\u001b[0;34m\u001b[0m\u001b[0m\n\u001b[0m\u001b[1;32m    259\u001b[0m         \u001b[0mstate\u001b[0m \u001b[0;34m=\u001b[0m \u001b[0mStates\u001b[0m\u001b[0;34m.\u001b[0m\u001b[0mnew\u001b[0m\u001b[0;34m\u001b[0m\u001b[0m\n\u001b[1;32m    260\u001b[0m \u001b[0;34m\u001b[0m\u001b[0m\n",
      "\u001b[0;32m~/work/projects/g2/trace_automation/crawling/shop_crawler.py\u001b[0m in \u001b[0;36mget_driver\u001b[0;34m(self, timeout)\u001b[0m\n\u001b[1;32m    212\u001b[0m     \u001b[0;32mdef\u001b[0m \u001b[0mget_driver\u001b[0m\u001b[0;34m(\u001b[0m\u001b[0mself\u001b[0m\u001b[0;34m,\u001b[0m \u001b[0mtimeout\u001b[0m\u001b[0;34m=\u001b[0m\u001b[0;36m60\u001b[0m\u001b[0;34m)\u001b[0m\u001b[0;34m:\u001b[0m\u001b[0;34m\u001b[0m\u001b[0m\n\u001b[1;32m    213\u001b[0m         \u001b[0;32mif\u001b[0m \u001b[0mself\u001b[0m\u001b[0;34m.\u001b[0m\u001b[0m_driver\u001b[0m\u001b[0;34m:\u001b[0m\u001b[0;34m\u001b[0m\u001b[0m\n\u001b[0;32m--> 214\u001b[0;31m             \u001b[0mnum_of_tabs\u001b[0m \u001b[0;34m=\u001b[0m \u001b[0mcount_tabs\u001b[0m\u001b[0;34m(\u001b[0m\u001b[0mself\u001b[0m\u001b[0;34m.\u001b[0m\u001b[0m_driver\u001b[0m\u001b[0;34m)\u001b[0m\u001b[0;34m\u001b[0m\u001b[0m\n\u001b[0m\u001b[1;32m    215\u001b[0m             \u001b[0;32mfor\u001b[0m \u001b[0mx\u001b[0m \u001b[0;32min\u001b[0m \u001b[0mrange\u001b[0m\u001b[0;34m(\u001b[0m\u001b[0;36m1\u001b[0m\u001b[0;34m,\u001b[0m \u001b[0mnum_of_tabs\u001b[0m\u001b[0;34m)\u001b[0m\u001b[0;34m:\u001b[0m\u001b[0;34m\u001b[0m\u001b[0m\n\u001b[1;32m    216\u001b[0m                 \u001b[0mclose_tab\u001b[0m\u001b[0;34m(\u001b[0m\u001b[0mself\u001b[0m\u001b[0;34m.\u001b[0m\u001b[0m_driver\u001b[0m\u001b[0;34m)\u001b[0m\u001b[0;34m\u001b[0m\u001b[0m\n",
      "\u001b[0;32m~/work/projects/g2/trace_automation/crawling/selenium_helper.py\u001b[0m in \u001b[0;36mcount_tabs\u001b[0;34m(driver)\u001b[0m\n\u001b[1;32m     45\u001b[0m \u001b[0;34m\u001b[0m\u001b[0m\n\u001b[1;32m     46\u001b[0m \u001b[0;32mdef\u001b[0m \u001b[0mcount_tabs\u001b[0m\u001b[0;34m(\u001b[0m\u001b[0mdriver\u001b[0m\u001b[0;34m)\u001b[0m\u001b[0;34m:\u001b[0m\u001b[0;34m\u001b[0m\u001b[0m\n\u001b[0;32m---> 47\u001b[0;31m     \u001b[0;32mreturn\u001b[0m \u001b[0mlen\u001b[0m\u001b[0;34m(\u001b[0m\u001b[0mdriver\u001b[0m\u001b[0;34m.\u001b[0m\u001b[0mwindow_handles\u001b[0m\u001b[0;34m)\u001b[0m\u001b[0;34m\u001b[0m\u001b[0m\n\u001b[0m\u001b[1;32m     48\u001b[0m \u001b[0;34m\u001b[0m\u001b[0m\n\u001b[1;32m     49\u001b[0m \u001b[0;34m\u001b[0m\u001b[0m\n",
      "\u001b[0;32m~/anaconda3/lib/python3.6/site-packages/selenium/webdriver/remote/webdriver.py\u001b[0m in \u001b[0;36mwindow_handles\u001b[0;34m(self)\u001b[0m\n\u001b[1;32m    717\u001b[0m             \u001b[0;32mreturn\u001b[0m \u001b[0mself\u001b[0m\u001b[0;34m.\u001b[0m\u001b[0mexecute\u001b[0m\u001b[0;34m(\u001b[0m\u001b[0mCommand\u001b[0m\u001b[0;34m.\u001b[0m\u001b[0mW3C_GET_WINDOW_HANDLES\u001b[0m\u001b[0;34m)\u001b[0m\u001b[0;34m[\u001b[0m\u001b[0;34m'value'\u001b[0m\u001b[0;34m]\u001b[0m\u001b[0;34m\u001b[0m\u001b[0m\n\u001b[1;32m    718\u001b[0m         \u001b[0;32melse\u001b[0m\u001b[0;34m:\u001b[0m\u001b[0;34m\u001b[0m\u001b[0m\n\u001b[0;32m--> 719\u001b[0;31m             \u001b[0;32mreturn\u001b[0m \u001b[0mself\u001b[0m\u001b[0;34m.\u001b[0m\u001b[0mexecute\u001b[0m\u001b[0;34m(\u001b[0m\u001b[0mCommand\u001b[0m\u001b[0;34m.\u001b[0m\u001b[0mGET_WINDOW_HANDLES\u001b[0m\u001b[0;34m)\u001b[0m\u001b[0;34m[\u001b[0m\u001b[0;34m'value'\u001b[0m\u001b[0;34m]\u001b[0m\u001b[0;34m\u001b[0m\u001b[0m\n\u001b[0m\u001b[1;32m    720\u001b[0m \u001b[0;34m\u001b[0m\u001b[0m\n\u001b[1;32m    721\u001b[0m     \u001b[0;32mdef\u001b[0m \u001b[0mmaximize_window\u001b[0m\u001b[0;34m(\u001b[0m\u001b[0mself\u001b[0m\u001b[0;34m)\u001b[0m\u001b[0;34m:\u001b[0m\u001b[0;34m\u001b[0m\u001b[0m\n",
      "\u001b[0;32m~/anaconda3/lib/python3.6/site-packages/selenium/webdriver/remote/webdriver.py\u001b[0m in \u001b[0;36mexecute\u001b[0;34m(self, driver_command, params)\u001b[0m\n\u001b[1;32m    310\u001b[0m \u001b[0;34m\u001b[0m\u001b[0m\n\u001b[1;32m    311\u001b[0m         \u001b[0mparams\u001b[0m \u001b[0;34m=\u001b[0m \u001b[0mself\u001b[0m\u001b[0;34m.\u001b[0m\u001b[0m_wrap_value\u001b[0m\u001b[0;34m(\u001b[0m\u001b[0mparams\u001b[0m\u001b[0;34m)\u001b[0m\u001b[0;34m\u001b[0m\u001b[0m\n\u001b[0;32m--> 312\u001b[0;31m         \u001b[0mresponse\u001b[0m \u001b[0;34m=\u001b[0m \u001b[0mself\u001b[0m\u001b[0;34m.\u001b[0m\u001b[0mcommand_executor\u001b[0m\u001b[0;34m.\u001b[0m\u001b[0mexecute\u001b[0m\u001b[0;34m(\u001b[0m\u001b[0mdriver_command\u001b[0m\u001b[0;34m,\u001b[0m \u001b[0mparams\u001b[0m\u001b[0;34m)\u001b[0m\u001b[0;34m\u001b[0m\u001b[0m\n\u001b[0m\u001b[1;32m    313\u001b[0m         \u001b[0;32mif\u001b[0m \u001b[0mresponse\u001b[0m\u001b[0;34m:\u001b[0m\u001b[0;34m\u001b[0m\u001b[0m\n\u001b[1;32m    314\u001b[0m             \u001b[0mself\u001b[0m\u001b[0;34m.\u001b[0m\u001b[0merror_handler\u001b[0m\u001b[0;34m.\u001b[0m\u001b[0mcheck_response\u001b[0m\u001b[0;34m(\u001b[0m\u001b[0mresponse\u001b[0m\u001b[0;34m)\u001b[0m\u001b[0;34m\u001b[0m\u001b[0m\n",
      "\u001b[0;32m~/anaconda3/lib/python3.6/site-packages/selenium/webdriver/remote/remote_connection.py\u001b[0m in \u001b[0;36mexecute\u001b[0;34m(self, command, params)\u001b[0m\n\u001b[1;32m    470\u001b[0m         \u001b[0mdata\u001b[0m \u001b[0;34m=\u001b[0m \u001b[0mutils\u001b[0m\u001b[0;34m.\u001b[0m\u001b[0mdump_json\u001b[0m\u001b[0;34m(\u001b[0m\u001b[0mparams\u001b[0m\u001b[0;34m)\u001b[0m\u001b[0;34m\u001b[0m\u001b[0m\n\u001b[1;32m    471\u001b[0m         \u001b[0murl\u001b[0m \u001b[0;34m=\u001b[0m \u001b[0;34m'%s%s'\u001b[0m \u001b[0;34m%\u001b[0m \u001b[0;34m(\u001b[0m\u001b[0mself\u001b[0m\u001b[0;34m.\u001b[0m\u001b[0m_url\u001b[0m\u001b[0;34m,\u001b[0m \u001b[0mpath\u001b[0m\u001b[0;34m)\u001b[0m\u001b[0;34m\u001b[0m\u001b[0m\n\u001b[0;32m--> 472\u001b[0;31m         \u001b[0;32mreturn\u001b[0m \u001b[0mself\u001b[0m\u001b[0;34m.\u001b[0m\u001b[0m_request\u001b[0m\u001b[0;34m(\u001b[0m\u001b[0mcommand_info\u001b[0m\u001b[0;34m[\u001b[0m\u001b[0;36m0\u001b[0m\u001b[0;34m]\u001b[0m\u001b[0;34m,\u001b[0m \u001b[0murl\u001b[0m\u001b[0;34m,\u001b[0m \u001b[0mbody\u001b[0m\u001b[0;34m=\u001b[0m\u001b[0mdata\u001b[0m\u001b[0;34m)\u001b[0m\u001b[0;34m\u001b[0m\u001b[0m\n\u001b[0m\u001b[1;32m    473\u001b[0m \u001b[0;34m\u001b[0m\u001b[0m\n\u001b[1;32m    474\u001b[0m     \u001b[0;32mdef\u001b[0m \u001b[0m_request\u001b[0m\u001b[0;34m(\u001b[0m\u001b[0mself\u001b[0m\u001b[0;34m,\u001b[0m \u001b[0mmethod\u001b[0m\u001b[0;34m,\u001b[0m \u001b[0murl\u001b[0m\u001b[0;34m,\u001b[0m \u001b[0mbody\u001b[0m\u001b[0;34m=\u001b[0m\u001b[0;32mNone\u001b[0m\u001b[0;34m)\u001b[0m\u001b[0;34m:\u001b[0m\u001b[0;34m\u001b[0m\u001b[0m\n",
      "\u001b[0;32m~/anaconda3/lib/python3.6/site-packages/selenium/webdriver/remote/remote_connection.py\u001b[0m in \u001b[0;36m_request\u001b[0;34m(self, method, url, body)\u001b[0m\n\u001b[1;32m    493\u001b[0m                 \u001b[0mbody\u001b[0m \u001b[0;34m=\u001b[0m \u001b[0;32mNone\u001b[0m\u001b[0;34m\u001b[0m\u001b[0m\n\u001b[1;32m    494\u001b[0m             \u001b[0;32mtry\u001b[0m\u001b[0;34m:\u001b[0m\u001b[0;34m\u001b[0m\u001b[0m\n\u001b[0;32m--> 495\u001b[0;31m                 \u001b[0mself\u001b[0m\u001b[0;34m.\u001b[0m\u001b[0m_conn\u001b[0m\u001b[0;34m.\u001b[0m\u001b[0mrequest\u001b[0m\u001b[0;34m(\u001b[0m\u001b[0mmethod\u001b[0m\u001b[0;34m,\u001b[0m \u001b[0mparsed_url\u001b[0m\u001b[0;34m.\u001b[0m\u001b[0mpath\u001b[0m\u001b[0;34m,\u001b[0m \u001b[0mbody\u001b[0m\u001b[0;34m,\u001b[0m \u001b[0mheaders\u001b[0m\u001b[0;34m)\u001b[0m\u001b[0;34m\u001b[0m\u001b[0m\n\u001b[0m\u001b[1;32m    496\u001b[0m                 \u001b[0mresp\u001b[0m \u001b[0;34m=\u001b[0m \u001b[0mself\u001b[0m\u001b[0;34m.\u001b[0m\u001b[0m_conn\u001b[0m\u001b[0;34m.\u001b[0m\u001b[0mgetresponse\u001b[0m\u001b[0;34m(\u001b[0m\u001b[0;34m)\u001b[0m\u001b[0;34m\u001b[0m\u001b[0m\n\u001b[1;32m    497\u001b[0m             \u001b[0;32mexcept\u001b[0m \u001b[0;34m(\u001b[0m\u001b[0mhttplib\u001b[0m\u001b[0;34m.\u001b[0m\u001b[0mHTTPException\u001b[0m\u001b[0;34m,\u001b[0m \u001b[0msocket\u001b[0m\u001b[0;34m.\u001b[0m\u001b[0merror\u001b[0m\u001b[0;34m)\u001b[0m\u001b[0;34m:\u001b[0m\u001b[0;34m\u001b[0m\u001b[0m\n",
      "\u001b[0;32m~/anaconda3/lib/python3.6/http/client.py\u001b[0m in \u001b[0;36mrequest\u001b[0;34m(self, method, url, body, headers, encode_chunked)\u001b[0m\n\u001b[1;32m   1237\u001b[0m                 encode_chunked=False):\n\u001b[1;32m   1238\u001b[0m         \u001b[0;34m\"\"\"Send a complete request to the server.\"\"\"\u001b[0m\u001b[0;34m\u001b[0m\u001b[0m\n\u001b[0;32m-> 1239\u001b[0;31m         \u001b[0mself\u001b[0m\u001b[0;34m.\u001b[0m\u001b[0m_send_request\u001b[0m\u001b[0;34m(\u001b[0m\u001b[0mmethod\u001b[0m\u001b[0;34m,\u001b[0m \u001b[0murl\u001b[0m\u001b[0;34m,\u001b[0m \u001b[0mbody\u001b[0m\u001b[0;34m,\u001b[0m \u001b[0mheaders\u001b[0m\u001b[0;34m,\u001b[0m \u001b[0mencode_chunked\u001b[0m\u001b[0;34m)\u001b[0m\u001b[0;34m\u001b[0m\u001b[0m\n\u001b[0m\u001b[1;32m   1240\u001b[0m \u001b[0;34m\u001b[0m\u001b[0m\n\u001b[1;32m   1241\u001b[0m     \u001b[0;32mdef\u001b[0m \u001b[0m_send_request\u001b[0m\u001b[0;34m(\u001b[0m\u001b[0mself\u001b[0m\u001b[0;34m,\u001b[0m \u001b[0mmethod\u001b[0m\u001b[0;34m,\u001b[0m \u001b[0murl\u001b[0m\u001b[0;34m,\u001b[0m \u001b[0mbody\u001b[0m\u001b[0;34m,\u001b[0m \u001b[0mheaders\u001b[0m\u001b[0;34m,\u001b[0m \u001b[0mencode_chunked\u001b[0m\u001b[0;34m)\u001b[0m\u001b[0;34m:\u001b[0m\u001b[0;34m\u001b[0m\u001b[0m\n",
      "\u001b[0;32m~/anaconda3/lib/python3.6/http/client.py\u001b[0m in \u001b[0;36m_send_request\u001b[0;34m(self, method, url, body, headers, encode_chunked)\u001b[0m\n\u001b[1;32m   1248\u001b[0m             \u001b[0mskips\u001b[0m\u001b[0;34m[\u001b[0m\u001b[0;34m'skip_accept_encoding'\u001b[0m\u001b[0;34m]\u001b[0m \u001b[0;34m=\u001b[0m \u001b[0;36m1\u001b[0m\u001b[0;34m\u001b[0m\u001b[0m\n\u001b[1;32m   1249\u001b[0m \u001b[0;34m\u001b[0m\u001b[0m\n\u001b[0;32m-> 1250\u001b[0;31m         \u001b[0mself\u001b[0m\u001b[0;34m.\u001b[0m\u001b[0mputrequest\u001b[0m\u001b[0;34m(\u001b[0m\u001b[0mmethod\u001b[0m\u001b[0;34m,\u001b[0m \u001b[0murl\u001b[0m\u001b[0;34m,\u001b[0m \u001b[0;34m**\u001b[0m\u001b[0mskips\u001b[0m\u001b[0;34m)\u001b[0m\u001b[0;34m\u001b[0m\u001b[0m\n\u001b[0m\u001b[1;32m   1251\u001b[0m \u001b[0;34m\u001b[0m\u001b[0m\n\u001b[1;32m   1252\u001b[0m         \u001b[0;31m# chunked encoding will happen if HTTP/1.1 is used and either\u001b[0m\u001b[0;34m\u001b[0m\u001b[0;34m\u001b[0m\u001b[0m\n",
      "\u001b[0;32m~/anaconda3/lib/python3.6/http/client.py\u001b[0m in \u001b[0;36mputrequest\u001b[0;34m(self, method, url, skip_host, skip_accept_encoding)\u001b[0m\n\u001b[1;32m   1106\u001b[0m             \u001b[0mself\u001b[0m\u001b[0;34m.\u001b[0m\u001b[0m__state\u001b[0m \u001b[0;34m=\u001b[0m \u001b[0m_CS_REQ_STARTED\u001b[0m\u001b[0;34m\u001b[0m\u001b[0m\n\u001b[1;32m   1107\u001b[0m         \u001b[0;32melse\u001b[0m\u001b[0;34m:\u001b[0m\u001b[0;34m\u001b[0m\u001b[0m\n\u001b[0;32m-> 1108\u001b[0;31m             \u001b[0;32mraise\u001b[0m \u001b[0mCannotSendRequest\u001b[0m\u001b[0;34m(\u001b[0m\u001b[0mself\u001b[0m\u001b[0;34m.\u001b[0m\u001b[0m__state\u001b[0m\u001b[0;34m)\u001b[0m\u001b[0;34m\u001b[0m\u001b[0m\n\u001b[0m\u001b[1;32m   1109\u001b[0m \u001b[0;34m\u001b[0m\u001b[0m\n\u001b[1;32m   1110\u001b[0m         \u001b[0;31m# Save the method we use, we need it later in the response phase\u001b[0m\u001b[0;34m\u001b[0m\u001b[0;34m\u001b[0m\u001b[0m\n",
      "\u001b[0;31mCannotSendRequest\u001b[0m: Request-sent"
     ]
    }
   ],
   "source": [
    "results = []\n",
    "with get_crawler(headless=False) as crawler:\n",
    "    for url in sample_urls:\n",
    "        print('\\n\\n{}'.format(url))\n",
    "        status = crawler.crawl(url, 30)\n",
    "        print(status)\n",
    "        results.append(status)\n"
   ]
  },
  {
   "cell_type": "code",
   "execution_count": null,
   "metadata": {},
   "outputs": [],
   "source": [
    "states = {}\n",
    "for status in results:\n",
    "    if isinstance(status, ProcessingStatus):\n",
    "        states[status.state] = states.get(status.state, 0) + 1\n",
    "        \n",
    "print(states)"
   ]
  },
  {
   "cell_type": "markdown",
   "metadata": {},
   "source": [
    "### Test Empty cart processing"
   ]
  },
  {
   "cell_type": "code",
   "execution_count": null,
   "metadata": {},
   "outputs": [],
   "source": [
    "# Make it True if you want to test empty cart detection\n",
    "test_empty_cart = False\n",
    "\n",
    "checkout_pages = [\n",
    "    'http://vape-fuel.com/checkout/cart/',\n",
    "    'https://store-bb7f1.mybigcommerce.com/cart.php',\n",
    "    'https://www.firstfitness.com/index.php?pg=signup',\n",
    "    'https://store.sandlakedermatology.com/checkout/cart/',\n",
    "    'https://www.dixieems.com/cart.asp',\n",
    "    'http://www.jonessurgical.com/quick-order'    \n",
    "]\n",
    "\n",
    "if test_empty_cart:\n",
    "    driver = get_driver()\n",
    "    \n",
    "    for url in checkout_pages:\n",
    "        driver.get(url)\n",
    "        time.sleep(30)\n",
    "        \n",
    "        is_empty_cart = common_actors.is_empty_cart(driver)\n",
    "        print('url: {}, is empty cart: {}'.format(url, is_empty_cart))\n",
    "        assert is_empty_cart\n",
    "\n",
    "    driver.quit()"
   ]
  },
  {
   "cell_type": "code",
   "execution_count": null,
   "metadata": {},
   "outputs": [],
   "source": [
    "test_broken_sites = False\n",
    "\n",
    "not_available = [\n",
    "    'juicyliquid.com',\n",
    "    'gotbloody.com',\n",
    "    'trelexa.org'\n",
    "]\n",
    "\n",
    "error = [\n",
    "    'tampahumidor.com',\n",
    "    'seriouscigars.com'    \n",
    "]\n",
    "\n",
    "timeout = [\n",
    "    'moneynetint.com'\n",
    "]\n",
    "\n",
    "domains_for_sale = [\n",
    "    'walkinmycloset.com'\n",
    "]\n",
    "        \n",
    "\n",
    "if test_broken_sites:\n",
    "    with get_crawler() as crawler:\n",
    "        for url in domains_for_sale:\n",
    "            print(url)\n",
    "            status = crawler.crawl(url)\n",
    "            assert isinstance(status, NotAvailable), '{} must be not available'.format(url)\n",
    "        \n",
    "        for url in timeout:\n",
    "            print(url)\n",
    "            status = crawler.crawl(url)\n",
    "            assert isinstance(status, Timeout) or isinstance(status, NotAvailable), \\\n",
    "                '{} must be not timed out'.format(url)\n",
    "\n",
    "        for url in not_available:\n",
    "            print(url)\n",
    "            status = crawler.crawl(url)\n",
    "            assert isinstance(status, NotAvailable), '{} must be not available'.format(url)\n",
    "\n",
    "        for url in error:\n",
    "            print(url)\n",
    "            status = crawler.crawl(url)\n",
    "            assert isinstance(status, RequestError), '{} must produce an error'.format(url)\n",
    "        \n",
    "        "
   ]
  }
 ],
 "metadata": {
  "kernelspec": {
   "display_name": "Python 3",
   "language": "python",
   "name": "python3"
  },
  "language_info": {
   "codemirror_mode": {
    "name": "ipython",
    "version": 3
   },
   "file_extension": ".py",
   "mimetype": "text/x-python",
   "name": "python",
   "nbconvert_exporter": "python",
   "pygments_lexer": "ipython3",
   "version": "3.6.3"
  }
 },
 "nbformat": 4,
 "nbformat_minor": 2
}
