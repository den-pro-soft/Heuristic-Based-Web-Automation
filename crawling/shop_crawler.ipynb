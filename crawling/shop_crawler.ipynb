{
 "cells": [
  {
   "cell_type": "code",
   "execution_count": null,
   "metadata": {},
   "outputs": [],
   "source": [
    "import random\n",
    "import csv\n",
    "import logging\n",
    "\n",
    "from shop_crawler import *\n",
    "from selenium_helper import *\n",
    "import common_actors\n",
    "\n",
    "from contextlib import contextmanager"
   ]
  },
  {
   "cell_type": "markdown",
   "metadata": {},
   "source": [
    "### Prepare different urls to analyze"
   ]
  },
  {
   "cell_type": "code",
   "execution_count": null,
   "metadata": {},
   "outputs": [],
   "source": [
    "# All urls\n",
    "all_urls = []\n",
    "with open('../resources/pvio_vio_us_ca_uk_sample1.csv', 'r') as f:\n",
    "    rows = csv.reader(f)\n",
    "    for row in rows:\n",
    "        url = row[0]\n",
    "        if url:\n",
    "            all_urls.append(url)\n",
    "\n",
    "# Random sample urls\n",
    "random.seed(1)\n",
    "sample_urls = random.sample(all_urls, 100)\n",
    "\n",
    "# Some good urls to analyze by hands\n",
    "good_urls = [\n",
    "    'curlebotanicals.com',\n",
    "    'theglamourshop.com',\n",
    "    'vape-fuel.com',\n",
    "    'firstfitness.com',\n",
    "    'sandlakedermatology.com',\n",
    "    'getwaave.com',\n",
    "    'dixieems.com',\n",
    "    'jonessurgical.com',\n",
    "    'srandd.com',\n",
    "    'ambarygardens.com',\n",
    "    'anabolicwarfare.com'\n",
    "]\n"
   ]
  },
  {
   "cell_type": "markdown",
   "metadata": {},
   "source": [
    "### Mock user and payment information"
   ]
  },
  {
   "cell_type": "code",
   "execution_count": null,
   "metadata": {},
   "outputs": [],
   "source": [
    "user_info = UserInfo(\n",
    "    first_name = 'John',\n",
    "    last_name = 'Smith',\n",
    "    country = 'United States',\n",
    "    home = 34,\n",
    "    street = 'Ocean drive',\n",
    "    city = 'Miami',\n",
    "    zip = '33125',\n",
    "    state = 'FLorida',\n",
    "    \n",
    "    phone = '1231232',\n",
    "    email = 'john@service.com'\n",
    ")\n",
    "\n",
    "billing_info = PaymentInfo(\n",
    "    card_number = '1413232312312321',\n",
    "    expire_date_year = 2020,\n",
    "    expire_date_month = 12,\n",
    "    cvc = '123'\n",
    ")"
   ]
  },
  {
   "cell_type": "code",
   "execution_count": null,
   "metadata": {},
   "outputs": [],
   "source": [
    "selenium_path = '/home/aleksei/dist/selenium/chromedriver'\n",
    "\n",
    "@contextmanager\n",
    "def get_crawler(headless=True):\n",
    "    global user_info, billing_info, selinium_path\n",
    "    crawler = ShopCrawler(user_info, billing_info, selenium_path, headless=headless)\n",
    "    common_actors.add_crawler_extensions(crawler)\n",
    "    \n",
    "    yield crawler\n",
    "\n",
    "def get_driver(headless=True):\n",
    "    global selenium_path   \n",
    "    return create_chrome_driver(selenium_path, headless=headless)\n"
   ]
  },
  {
   "cell_type": "markdown",
   "metadata": {},
   "source": [
    "### Set up logging level"
   ]
  },
  {
   "cell_type": "code",
   "execution_count": null,
   "metadata": {},
   "outputs": [],
   "source": [
    "logger = logging.getLogger('shop_crawler')\n",
    "logger.setLevel(logging.DEBUG)\n",
    "\n",
    "handler = logging.StreamHandler()\n",
    "formatter = logging.Formatter(\n",
    "        '%(asctime)s %(name)-12s %(levelname)-8s %(message)s')\n",
    "handler.setFormatter(formatter)\n",
    "logger.addHandler(handler)"
   ]
  },
  {
   "cell_type": "markdown",
   "metadata": {},
   "source": [
    "### Start crawling for every url"
   ]
  },
  {
   "cell_type": "code",
   "execution_count": null,
   "metadata": {
    "scrolled": true
   },
   "outputs": [],
   "source": [
    "results = []\n",
    "with get_crawler(headless=False) as crawler:\n",
    "    for url in good_urls:\n",
    "        print('\\n\\n{}'.format(url))\n",
    "        status = crawler.crawl(url, attempts=1)\n",
    "        print(status)\n",
    "        results.append(status)\n"
   ]
  },
  {
   "cell_type": "code",
   "execution_count": null,
   "metadata": {},
   "outputs": [],
   "source": [
    "states = {}\n",
    "for status in results:\n",
    "    if isinstance(status, ProcessingStatus):\n",
    "        states[status.state] = states.get(status.state, 0) + 1\n",
    "        \n",
    "print(states)"
   ]
  },
  {
   "cell_type": "markdown",
   "metadata": {},
   "source": [
    "### Test Empty cart processing"
   ]
  },
  {
   "cell_type": "code",
   "execution_count": null,
   "metadata": {},
   "outputs": [],
   "source": [
    "# Make it True if you want to test empty cart detection\n",
    "test_empty_cart = False\n",
    "\n",
    "checkout_pages = [\n",
    "    'http://vape-fuel.com/checkout/cart/',\n",
    "    'https://store-bb7f1.mybigcommerce.com/cart.php',\n",
    "    'https://www.firstfitness.com/index.php?pg=signup',\n",
    "    'https://store.sandlakedermatology.com/checkout/cart/',\n",
    "    'https://www.dixieems.com/cart.asp',\n",
    "    'http://www.jonessurgical.com/quick-order'    \n",
    "]\n",
    "\n",
    "if test_empty_cart:\n",
    "    driver = get_driver()\n",
    "    \n",
    "    for url in checkout_pages:\n",
    "        driver.get(url)\n",
    "        \n",
    "        is_empty_cart = common_actors.is_empty_cart(driver)\n",
    "        print('url: {}, is empty cart: {}'.format(url, is_empty_cart))\n",
    "        assert is_empty_cart\n",
    "\n",
    "    driver.quit()"
   ]
  },
  {
   "cell_type": "code",
   "execution_count": null,
   "metadata": {},
   "outputs": [],
   "source": [
    "test_broken_sites = False\n",
    "\n",
    "not_available = [\n",
    "    'juicyliquid.com',\n",
    "    'gotbloody.com',\n",
    "    'trelexa.org'\n",
    "]\n",
    "\n",
    "error = [\n",
    "    'tampahumidor.com',\n",
    "    'seriouscigars.com'    \n",
    "]\n",
    "\n",
    "timeout = [\n",
    "    'moneynetint.com'\n",
    "]\n",
    "\n",
    "domains_for_sale = [\n",
    "    'walkinmycloset.com'\n",
    "]\n",
    "        \n",
    "\n",
    "if test_broken_sites:\n",
    "    with get_crawler() as crawler:\n",
    "        for url in domains_for_sale:\n",
    "            print(url)\n",
    "            status = crawler.crawl(url)\n",
    "            assert isinstance(status, NotAvailable), '{} must be not available'.format(url)\n",
    "        \n",
    "        for url in timeout:\n",
    "            print(url)\n",
    "            status = crawler.crawl(url)\n",
    "            assert isinstance(status, Timeout) or isinstance(status, NotAvailable), \\\n",
    "                '{} must be not timed out'.format(url)\n",
    "\n",
    "        for url in not_available:\n",
    "            print(url)\n",
    "            status = crawler.crawl(url)\n",
    "            assert isinstance(status, NotAvailable), '{} must be not available'.format(url)\n",
    "\n",
    "        for url in error:\n",
    "            print(url)\n",
    "            status = crawler.crawl(url)\n",
    "            assert isinstance(status, RequestError), '{} must produce an error'.format(url)\n",
    "        \n",
    "        "
   ]
  }
 ],
 "metadata": {
  "kernelspec": {
   "display_name": "Python 3",
   "language": "python",
   "name": "python3"
  },
  "language_info": {
   "codemirror_mode": {
    "name": "ipython",
    "version": 3
   },
   "file_extension": ".py",
   "mimetype": "text/x-python",
   "name": "python",
   "nbconvert_exporter": "python",
   "pygments_lexer": "ipython3",
   "version": "3.6.3"
  }
 },
 "nbformat": 4,
 "nbformat_minor": 2
}
