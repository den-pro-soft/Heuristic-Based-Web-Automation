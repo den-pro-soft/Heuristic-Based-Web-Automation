{
 "cells": [
  {
   "cell_type": "code",
   "execution_count": null,
   "metadata": {},
   "outputs": [],
   "source": [
    "import random\n",
    "import csv\n",
    "import logging\n",
    "\n",
    "from shop_crawler import *\n",
    "from selenium_helper import *\n",
    "from status import *\n",
    "\n",
    "import trace_logger\n",
    "import common_actors\n",
    "\n",
    "from contextlib import contextmanager"
   ]
  },
  {
   "cell_type": "markdown",
   "metadata": {},
   "source": [
    "### Prepare different urls to analyze"
   ]
  },
  {
   "cell_type": "code",
   "execution_count": null,
   "metadata": {},
   "outputs": [],
   "source": [
    "# All urls\n",
    "all_urls = []\n",
    "with open('../resources/pvio_vio_us_ca_uk_sample1.csv', 'r') as f:\n",
    "    rows = csv.reader(f)\n",
    "    for row in rows:\n",
    "        url = row[0]\n",
    "        if url:\n",
    "            all_urls.append(url)\n",
    "\n",
    "# Random sample urls\n",
    "random.seed(1)\n",
    "sample_urls = random.sample(all_urls, 100)\n",
    "\n",
    "# Some good urls to analyze by hands\n",
    "good_urls = [\n",
    "    'vape-fuel.com',\n",
    "    'theglamourshop.com',\n",
    "    'firstfitness.com',\n",
    "    'sandlakedermatology.com',\n",
    "    'getwaave.com',\n",
    "    'dixieems.com',\n",
    "    'jonessurgical.com',\n",
    "    'srandd.com',\n",
    "    'ambarygardens.com',\n",
    "    'anabolicwarfare.com'\n",
    "]\n"
   ]
  },
  {
   "cell_type": "markdown",
   "metadata": {},
   "source": [
    "### Mock user and payment information"
   ]
  },
  {
   "cell_type": "code",
   "execution_count": null,
   "metadata": {},
   "outputs": [],
   "source": [
    "user_info = UserInfo(\n",
    "    first_name = 'John',\n",
    "    last_name = 'Smith',\n",
    "    country = 'United States',\n",
    "    home = 34,\n",
    "    street = 'Ocean drive',\n",
    "    city = 'Miami',\n",
    "    zip = '33125',\n",
    "    state = 'FLorida',\n",
    "    \n",
    "    phone = '1231232',\n",
    "    email = 'john@service.com'\n",
    ")\n",
    "\n",
    "billing_info = PaymentInfo(\n",
    "    card_number = '1413232312312321',\n",
    "    card_name = 'Visa Card',\n",
    "    card_type = 'Visa',\n",
    "    expire_date_year = 2020,\n",
    "    expire_date_month = 12,\n",
    "    cvc = '123'\n",
    ")"
   ]
  },
  {
   "cell_type": "code",
   "execution_count": null,
   "metadata": {},
   "outputs": [],
   "source": [
    "selenium_path = '/usr/bin/chromedriver'\n",
    "\n",
    "@contextmanager\n",
    "def get_crawler(headless = True):\n",
    "    logger = trace_logger.FileTraceLogger('results.jsonl', 'images')\n",
    "\n",
    "    global user_info, billing_info, selinium_path\n",
    "    crawler = ShopCrawler(user_info, \n",
    "                          billing_info, \n",
    "                          selenium_path, \n",
    "                          headless = headless, \n",
    "                          trace_logger = logger)\n",
    "    common_actors.add_crawler_extensions(crawler)\n",
    "    \n",
    "    yield crawler\n",
    "\n",
    "def get_driver(headless = True):\n",
    "    global selenium_path   \n",
    "    return create_chrome_driver(selenium_path, headless = headless)\n"
   ]
  },
  {
   "cell_type": "markdown",
   "metadata": {},
   "source": [
    "### Set up logging level"
   ]
  },
  {
   "cell_type": "code",
   "execution_count": null,
   "metadata": {},
   "outputs": [],
   "source": [
    "logger = logging.getLogger('shop_crawler')\n",
    "logger.setLevel(logging.DEBUG)\n",
    "\n",
    "handler = logging.StreamHandler()\n",
    "formatter = logging.Formatter(\n",
    "        '%(asctime)s %(name)-12s %(levelname)-8s %(message)s')\n",
    "handler.setFormatter(formatter)\n",
    "logger.addHandler(handler)"
   ]
  },
  {
   "cell_type": "markdown",
   "metadata": {},
   "source": [
    "### Start crawling for every url"
   ]
  },
  {
   "cell_type": "code",
   "execution_count": null,
   "metadata": {
    "scrolled": true
   },
   "outputs": [],
   "source": [
    "results = []\n",
    "\n",
    "with get_crawler(False) as crawler:\n",
    "    for url in good_urls:\n",
    "        print('\\n\\n{}'.format(url))\n",
    "        status = crawler.crawl(url, attempts=1)\n",
    "        print(status)\n",
    "        results.append(status)\n"
   ]
  },
  {
   "cell_type": "code",
   "execution_count": null,
   "metadata": {},
   "outputs": [],
   "source": [
    "states = {}\n",
    "for status in results:\n",
    "    if isinstance(status, ProcessingStatus):\n",
    "        states[status.state] = states.get(status.state, 0) + 1\n",
    "        \n",
    "print(states)"
   ]
  },
  {
   "cell_type": "code",
   "execution_count": null,
   "metadata": {
    "scrolled": false
   },
   "outputs": [],
   "source": [
    "import json\n",
    "from IPython.core.display import Image, display\n",
    "\n",
    "with open('results.jsonl', 'r') as f:\n",
    "    for line in f:\n",
    "        trace = json.loads(line)\n",
    "        print('\\n\\n{} - {}'.format(trace['domain'], trace['status']['state']))\n",
    "        for step in trace['steps']:\n",
    "            print('url: {} state: {} handler: {}'.format(step['url'], step['state'], step['handler']))\n",
    "            display(Image(step['screen_path'], width=640, unconfined=True))"
   ]
  }
 ],
 "metadata": {
  "kernelspec": {
   "display_name": "Python 3",
   "language": "python",
   "name": "python3"
  },
  "language_info": {
   "codemirror_mode": {
    "name": "ipython",
    "version": 3
   },
   "file_extension": ".py",
   "mimetype": "text/x-python",
   "name": "python",
   "nbconvert_exporter": "python",
   "pygments_lexer": "ipython3",
   "version": "3.6.3"
  }
 },
 "nbformat": 4,
 "nbformat_minor": 2
}
