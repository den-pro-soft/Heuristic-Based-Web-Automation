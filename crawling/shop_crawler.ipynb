{
 "cells": [
  {
   "cell_type": "code",
   "execution_count": 5,
   "metadata": {},
   "outputs": [],
   "source": [
    "import random\n",
    "import csv\n",
    "import logging\n",
    "\n",
    "from shop_crawler import *\n",
    "import common_actors"
   ]
  },
  {
   "cell_type": "markdown",
   "metadata": {},
   "source": [
    "### Prepare different urls to analyze"
   ]
  },
  {
   "cell_type": "code",
   "execution_count": 6,
   "metadata": {},
   "outputs": [],
   "source": [
    "# All urls\n",
    "all_urls = []\n",
    "with open('../resources/pvio_vio_us_ca_uk_sample1.csv', 'r') as f:\n",
    "    rows = csv.reader(f)\n",
    "    for row in rows:\n",
    "        url = row[0]\n",
    "        if url:\n",
    "            all_urls.append(url)\n",
    "\n",
    "# Random sample urls\n",
    "random.seed(1)\n",
    "sample_urls = random.sample(all_urls, 100)\n",
    "\n",
    "# Some good urls to analyze by hands\n",
    "good_urls = [\n",
    "    'curlebotanicals.com',\n",
    "    'theglamourshop.com',\n",
    "    'vape-fuel.com',\n",
    "    'firstfitness.com',\n",
    "    'sandlakedermatology.com',\n",
    "    'getwaave.com',\n",
    "    'dixieems.com',\n",
    "    'jonessurgical.com',\n",
    "    'srandd.com',\n",
    "    'ambarygardens.com',\n",
    "    'anabolicwarfare.com'\n",
    "]\n"
   ]
  },
  {
   "cell_type": "markdown",
   "metadata": {},
   "source": [
    "### Mock user and payment information"
   ]
  },
  {
   "cell_type": "code",
   "execution_count": 7,
   "metadata": {},
   "outputs": [],
   "source": [
    "user_info = UserInfo(\n",
    "    first_name = 'John',\n",
    "    last_name = 'Smith',\n",
    "    country = 'United States',\n",
    "    home = 34,\n",
    "    street = 'Ocean drive',\n",
    "    city = 'Miami',\n",
    "    zip = '33125',\n",
    "    state = 'FLorida',\n",
    "    \n",
    "    phone = '1231232',\n",
    "    email = 'john@service.com'\n",
    ")\n",
    "\n",
    "billing_info = PaymentInfo(\n",
    "    card_number = '1413232312312321',\n",
    "    expire_date_year = 2020,\n",
    "    expire_date_month = 12,\n",
    "    cvc = '123'\n",
    ")"
   ]
  },
  {
   "cell_type": "markdown",
   "metadata": {},
   "source": [
    "### Set up logging level"
   ]
  },
  {
   "cell_type": "code",
   "execution_count": 8,
   "metadata": {},
   "outputs": [],
   "source": [
    "logger = logging.getLogger('shop_crawler')\n",
    "logger.setLevel(logging.INFO)\n",
    "\n",
    "handler = logging.StreamHandler()\n",
    "formatter = logging.Formatter(\n",
    "        '%(asctime)s %(name)-12s %(levelname)-8s %(message)s')\n",
    "handler.setFormatter(formatter)\n",
    "logger.addHandler(handler)"
   ]
  },
  {
   "cell_type": "markdown",
   "metadata": {},
   "source": [
    "### Start crawling for every url"
   ]
  },
  {
   "cell_type": "code",
   "execution_count": null,
   "metadata": {},
   "outputs": [
    {
     "name": "stdout",
     "output_type": "stream",
     "text": [
      "\n",
      "\n",
      "curlebotanicals.com\n"
     ]
    },
    {
     "name": "stderr",
     "output_type": "stream",
     "text": [
      "2018-07-10 10:23:32,350 shop_crawler INFO     processing state: new\n",
      "2018-07-10 10:23:32,353 shop_crawler INFO     handler <common_actors.AddToCart object at 0x7ff59d26d860>\n",
      "2018-07-10 10:24:36,936 shop_crawler INFO     new_state product_in_cart, url http://www.curlebotanicals.com/kratom/\n",
      "2018-07-10 10:24:36,990 shop_crawler INFO     processing state: product_in_cart\n",
      "2018-07-10 10:24:36,992 shop_crawler INFO     handler <common_actors.ToCheckout object at 0x7ff59d26d9e8>\n",
      "2018-07-10 10:25:39,031 shop_crawler INFO     new_state product_in_cart, url http://www.curlebotanicals.com/kratom/\n",
      "2018-07-10 10:25:39,032 shop_crawler INFO     handler <common_actors.ToCartLink object at 0x7ff59d26da20>\n",
      "2018-07-10 10:25:40,711 shop_crawler INFO     new_state product_in_cart, url http://www.curlebotanicals.com/kratom/\n",
      "2018-07-10 10:25:40,770 shop_crawler INFO     processing state: product_in_cart\n",
      "2018-07-10 10:25:40,771 shop_crawler INFO     handler <common_actors.ToCheckout object at 0x7ff59d26d9e8>\n",
      "2018-07-10 10:26:21,417 shop_crawler INFO     new_state product_in_cart, url http://www.curlebotanicals.com/kratom/\n",
      "2018-07-10 10:26:21,418 shop_crawler INFO     handler <common_actors.ToCartLink object at 0x7ff59d26da20>\n",
      "2018-07-10 10:26:21,795 shop_crawler INFO     new_state product_in_cart, url http://www.curlebotanicals.com/kratom/\n",
      "2018-07-10 10:26:21,835 shop_crawler INFO     Can't purchase from shop: http://curlebotanicals.com stopped at state: product_in_cart, current url: http://www.curlebotanicals.com/kratom/\n"
     ]
    },
    {
     "name": "stdout",
     "output_type": "stream",
     "text": [
      "\n",
      "\n",
      "theglamourshop.com\n"
     ]
    },
    {
     "name": "stderr",
     "output_type": "stream",
     "text": [
      "2018-07-10 10:26:48,279 shop_crawler INFO     processing state: new\n",
      "2018-07-10 10:26:48,281 shop_crawler INFO     handler <common_actors.AddToCart object at 0x7ff59d26d860>\n",
      "2018-07-10 10:27:51,810 shop_crawler INFO     new_state product_in_cart, url https://store-bb7f1.mybigcommerce.com/cart.php?suggest=0b86938f-6738-47ad-b4b6-8629738c9e65\n",
      "2018-07-10 10:28:11,843 shop_crawler INFO     processing state: product_in_cart\n",
      "2018-07-10 10:28:11,844 shop_crawler INFO     handler <common_actors.ToCheckout object at 0x7ff59d26d9e8>\n",
      "/home/jack/working_directory/David/trace_automation/venv/lib/python3.5/site-packages/bs4/__init__.py:181: UserWarning: No parser was explicitly specified, so I'm using the best available HTML parser for this system (\"html5lib\"). This usually isn't a problem, but if you run this code on another system, or in a different virtual environment, it may use a different parser and behave differently.\n",
      "\n",
      "The code that caused this warning is on line 184 of the file /usr/lib/python3.5/runpy.py. To get rid of this warning, change code that looks like this:\n",
      "\n",
      " BeautifulSoup(YOUR_MARKUP})\n",
      "\n",
      "to this:\n",
      "\n",
      " BeautifulSoup(YOUR_MARKUP, \"html5lib\")\n",
      "\n",
      "  markup_type=markup_type))\n",
      "2018-07-10 10:28:21,632 shop_crawler INFO     new_state checkout_page, url https://store-bb7f1.mybigcommerce.com/checkout.php\n",
      "2018-07-10 10:28:41,691 shop_crawler INFO     processing state: checkout_page\n",
      "2018-07-10 10:28:41,698 shop_crawler INFO     Can't purchase from shop: http://theglamourshop.com stopped at state: checkout_page, current url: https://store-bb7f1.mybigcommerce.com/checkout.php\n"
     ]
    },
    {
     "name": "stdout",
     "output_type": "stream",
     "text": [
      "\n",
      "\n",
      "vape-fuel.com\n"
     ]
    },
    {
     "name": "stderr",
     "output_type": "stream",
     "text": [
      "2018-07-10 10:28:50,163 shop_crawler INFO     processing state: new\n",
      "2018-07-10 10:28:50,164 shop_crawler INFO     handler <common_actors.AddToCart object at 0x7ff59d26d860>\n",
      "2018-07-10 10:30:23,552 shop_crawler INFO     new_state new, url http://vape-fuel.com/\n",
      "2018-07-10 10:30:23,553 shop_crawler INFO     handler <common_actors.GoogleForProductPage object at 0x7ff59d26d940>\n"
     ]
    }
   ],
   "source": [
    "crawler = ShopCrawler(user_info, billing_info, '/usr/bin/chromedriver', headless=True)\n",
    "common_actors.add_crawler_extensions(crawler)\n",
    "\n",
    "with crawler:\n",
    "    for url in good_urls:\n",
    "        print('\\n\\n{}'.format(url))\n",
    "        crawler.crawl(url)\n"
   ]
  },
  {
   "cell_type": "markdown",
   "metadata": {},
   "source": [
    "### Test Empty cart processing"
   ]
  },
  {
   "cell_type": "code",
   "execution_count": null,
   "metadata": {},
   "outputs": [],
   "source": [
    "# Make it True if you want to test empty cart detection\n",
    "test_empty_cart = False\n",
    "\n",
    "\n",
    "checkout_pages = [\n",
    "    'http://vape-fuel.com/checkout/cart/',\n",
    "    'https://store-bb7f1.mybigcommerce.com/cart.php',\n",
    "    'https://www.firstfitness.com/index.php?pg=signup',\n",
    "    'https://store.sandlakedermatology.com/checkout/cart/',\n",
    "    'https://www.dixieems.com/cart.asp',\n",
    "    'http://www.jonessurgical.com/quick-order'    \n",
    "]\n",
    "\n",
    "if test_empty_cart:\n",
    "    from selenium_helper import *\n",
    "    driver = create_chrome_driver('/home/aleksei/dist/selenium/chromedriver')\n",
    "\n",
    "    for url in checkout_pages:\n",
    "        driver.get(url)\n",
    "        time.sleep(30)\n",
    "        \n",
    "        is_empty_cart = common_actors.is_empty_cart(driver)\n",
    "        print('url: {}, is empty cart: {}'.format(url, is_empty_cart))\n",
    "\n",
    "    driver.quit()"
   ]
  }
 ],
 "metadata": {
  "kernelspec": {
   "display_name": "Python 3",
   "language": "python",
   "name": "python3"
  },
  "language_info": {
   "codemirror_mode": {
    "name": "ipython",
    "version": 3
   },
   "file_extension": ".py",
   "mimetype": "text/x-python",
   "name": "python",
   "nbconvert_exporter": "python",
   "pygments_lexer": "ipython3",
   "version": "3.5.2"
  }
 },
 "nbformat": 4,
 "nbformat_minor": 2
}
