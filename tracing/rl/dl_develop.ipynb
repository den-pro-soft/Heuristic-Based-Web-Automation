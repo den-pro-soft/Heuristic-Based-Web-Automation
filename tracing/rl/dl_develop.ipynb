{
 "cells": [
  {
   "cell_type": "code",
   "execution_count": 1,
   "metadata": {},
   "outputs": [
    {
     "name": "stderr",
     "output_type": "stream",
     "text": [
      "/home/aleksei/anaconda3/lib/python3.6/site-packages/h5py/__init__.py:34: FutureWarning: Conversion of the second argument of issubdtype from `float` to `np.floating` is deprecated. In future, it will be treated as `np.float64 == np.dtype(float).type`.\n",
      "  from ._conv import register_converters as _register_converters\n"
     ]
    }
   ],
   "source": [
    "from tracing.rl.actions import *\n",
    "from tracing.rl.a3cmodel import A3CModel\n",
    "from tracing.rl.rewards import PopupRewardsCalculator\n",
    "from tracing.rl.environment import Environment\n",
    "from tracing.rl.actor_learner import ActionsMemory\n",
    "from tracing.rl.actor_learner import ActorLearnerWorker\n",
    "import tensorflow as tf\n",
    "import threading\n",
    "import csv, re"
   ]
  },
  {
   "cell_type": "code",
   "execution_count": 2,
   "metadata": {},
   "outputs": [
    {
     "name": "stdout",
     "output_type": "stream",
     "text": [
      "Found 701 url\n"
     ]
    }
   ],
   "source": [
    "popup_urls = [\n",
    "    # Choose from two options popups\n",
    "    'monstervape.com',\n",
    "    'twistedcigs.com',\n",
    "    'ecigsejuice.com',\n",
    "    'vape-fuel.com',\n",
    "    'www.powervapes.net/products/',\n",
    "    'ecigexpress.com',\n",
    "    'ecigvaporstore.com',\n",
    "    \n",
    "    # Subscribe\n",
    "    'cigarmanor.com',\n",
    "    \n",
    "    # Enter date popups\n",
    "    'thecigarshop.com',\n",
    "    'cigartowns.com',\n",
    "    'docssmokeshop.com',\n",
    "    'enhancedecigs.com',\n",
    "    'betamorphecigs.com',\n",
    "    \n",
    "    # Accept Cookie\n",
    "    'theglamourshop.com'\n",
    "]\n",
    "\n",
    "no_popup_urls = [\n",
    "    'dixieems.com',\n",
    "    'firstfitness.com',\n",
    "    'sandlakedermatology.com',\n",
    "    'dixieems.com',\n",
    "    'anabolicwarfare.com',\n",
    "    'jonessurgical.com',\n",
    "    'srandd.com'\n",
    "]\n",
    "\n",
    "\n",
    "smoke_urls = []\n",
    "pattern = '(smok)|(cig)|(vape)|(tobac)'\n",
    "with open('../../resources/pvio_vio_us_ca_uk_sample1.csv') as f:\n",
    "    rows = csv.reader(f)\n",
    "    for row in rows:\n",
    "        url = row[0]\n",
    "        if re.match(pattern, url):\n",
    "            smoke_urls.append(url)\n",
    "\n",
    "print('Found {} url'.format(len(smoke_urls)))\n",
    "#popup_urls = smoke_urls"
   ]
  },
  {
   "cell_type": "code",
   "execution_count": 3,
   "metadata": {
    "scrolled": true
   },
   "outputs": [],
   "source": [
    "tf.reset_default_graph()\n",
    "session = tf.Session()\n",
    "\n",
    "num_workers = 4\n",
    "\n",
    "global_model = A3CModel(len(Actions.actions), session = session)\n",
    "global_model.init()\n",
    "workers = []\n",
    "#popup_urls = ['cigartowns.com']\n",
    "\n",
    "for i in range(num_workers):\n",
    "    env = Environment(PopupRewardsCalculator(), user={}, headless=True)\n",
    "    worker = ActorLearnerWorker(\"worker-{}\".format(i), popup_urls,\n",
    "                                      global_model, env, 10000, \n",
    "                                lr=0.001, \n",
    "                                entropy_l=0.2, \n",
    "                                dropout = 0.8, \n",
    "                                gamma=0.99)\n",
    "    workers.append(worker)\n",
    "\n",
    "    worker.local_model.init()\n",
    "    \n",
    "coord = tf.train.Coordinator()"
   ]
  },
  {
   "cell_type": "code",
   "execution_count": null,
   "metadata": {
    "scrolled": true
   },
   "outputs": [
    {
     "name": "stdout",
     "output_type": "stream",
     "text": [
      "\n",
      "\n",
      "started url http://cigartowns.com\n",
      "\n",
      "\n",
      "started url http://ecigvaporstore.com\n",
      "\n",
      "\n",
      "started url http://twistedcigs.com\n",
      "\n",
      "\n",
      "started url http://cigarmanor.com\n",
      "controls: 1, covered: 0\n",
      "control: Control: link, label: https://www.tucowsdomains.com/, values: None, min: None, max = None\n",
      "got probabilities: [4.7654716e-08 1.2601175e-06 2.5960460e-07 6.3802280e-02 9.3619621e-01]\n",
      "got action: Do Nothing\n",
      "controls: 1, covered: 0\n",
      "controls: 1, covered: 0\n",
      "reward: 0\n",
      "controls: 10, covered: 8\n",
      "\n",
      "\n",
      "started url http://theglamourshop.com\n",
      "got score: -1.3065634\n",
      "estimated score: -1.3065634\n"
     ]
    },
    {
     "name": "stderr",
     "output_type": "stream",
     "text": [
      "Exception in thread Thread-11:\n",
      "Traceback (most recent call last):\n",
      "  File \"/home/aleksei/anaconda3/lib/python3.6/threading.py\", line 916, in _bootstrap_inner\n",
      "    self.run()\n",
      "  File \"/home/aleksei/anaconda3/lib/python3.6/threading.py\", line 864, in run\n",
      "    self._target(*self._args, **self._kwargs)\n",
      "  File \"<ipython-input-4-872616ed5ca0>\", line 9, in <lambda>\n",
      "    thread = threading.Thread(target=lambda: worker.run())\n",
      "  File \"/home/aleksei/anaconda3/lib/python3.6/site-packages/tracing/rl/actor_learner.py\", line 181, in run\n",
      "    lr = self.get_lr(),\n",
      "  File \"/home/aleksei/anaconda3/lib/python3.6/site-packages/tracing/rl/actor_learner.py\", line 123, in get_lr\n",
      "    step = ActorLearnerWorker.global_step // steps_lr_decay\n",
      "NameError: name 'steps_lr_decay' is not defined\n",
      "\n"
     ]
    },
    {
     "name": "stdout",
     "output_type": "stream",
     "text": [
      "controls: 10, covered: 9\n",
      "\n",
      "\n",
      "started url http://docssmokeshop.com\n",
      "controls: 10, covered: 10\n",
      "\n",
      "\n",
      "started url http://theglamourshop.com\n",
      "controls: 10, covered: 1\n",
      "controls: 10, covered: 9\n",
      "\n",
      "\n",
      "started url http://cigarmanor.com\n"
     ]
    },
    {
     "data": {
      "image/png": "[encoded data removed]",
      "text/plain": [
       "<matplotlib.figure.Figure at 0x7fdfa4551da0>"
      ]
     },
     "metadata": {},
     "output_type": "display_data"
    },
    {
     "name": "stdout",
     "output_type": "stream",
     "text": [
      "controls: 10, covered: 2\n",
      "controls: 10, covered: 10\n",
      "\n",
      "\n",
      "started url http://monstervape.com\n",
      "controls: 10, covered: 10\n",
      "\n",
      "\n",
      "started url http://docssmokeshop.com\n"
     ]
    },
    {
     "data": {
      "image/png": "[encoded data removed]",
      "text/plain": [
       "<matplotlib.figure.Figure at 0x7fdfa5637748>"
      ]
     },
     "metadata": {},
     "output_type": "display_data"
    },
    {
     "name": "stdout",
     "output_type": "stream",
     "text": [
      "control: Control: link, label: , values: None, min: None, max = None\n",
      "got probabilities: [2.9636345e-08 9.5446899e-07 1.0481076e-07 3.2700788e-02 9.6729815e-01]\n",
      "got action: Do Nothing\n",
      "controls: 10, covered: 7\n",
      "\n",
      "\n",
      "started url http://monstervape.com\n",
      "control: Control: link, label: , values: None, min: None, max = None\n",
      "controls: 10, covered: 1\n",
      "got probabilities: [2.9636345e-08 9.5446899e-07 1.0481076e-07 3.2700788e-02 9.6729815e-01]\n",
      "got action: Do Nothing\n",
      "controls: 10, covered: 3\n",
      "reward: 0\n",
      "controls: 10, covered: 2\n",
      "got score: -1.2768843\n",
      "estimated score: -1.2768843\n",
      "control: Control: link, label: HOME, values: None, min: None, max = None\n",
      "got probabilities: [4.6603120e-08 1.5823180e-06 1.8627190e-07 4.2196475e-02 9.5780164e-01]\n",
      "got action: Do Nothing\n",
      "controls: 10, covered: 9\n",
      "\n",
      "\n",
      "started url http://theglamourshop.com\n",
      "controls: 10, covered: 2\n",
      "reward: 0\n",
      "got score: -1.2768843\n",
      "estimated score: -1.2768843\n"
     ]
    },
    {
     "name": "stderr",
     "output_type": "stream",
     "text": [
      "Exception in thread Thread-10:\n",
      "Traceback (most recent call last):\n",
      "  File \"/home/aleksei/anaconda3/lib/python3.6/threading.py\", line 916, in _bootstrap_inner\n",
      "    self.run()\n",
      "  File \"/home/aleksei/anaconda3/lib/python3.6/threading.py\", line 864, in run\n",
      "    self._target(*self._args, **self._kwargs)\n",
      "  File \"<ipython-input-4-872616ed5ca0>\", line 9, in <lambda>\n",
      "    thread = threading.Thread(target=lambda: worker.run())\n",
      "  File \"/home/aleksei/anaconda3/lib/python3.6/site-packages/tracing/rl/actor_learner.py\", line 181, in run\n",
      "    lr = self.get_lr(),\n",
      "  File \"/home/aleksei/anaconda3/lib/python3.6/site-packages/tracing/rl/actor_learner.py\", line 123, in get_lr\n",
      "    step = ActorLearnerWorker.global_step // steps_lr_decay\n",
      "NameError: name 'steps_lr_decay' is not defined\n",
      "\n"
     ]
    },
    {
     "name": "stdout",
     "output_type": "stream",
     "text": [
      "controls: 10, covered: 3\n"
     ]
    },
    {
     "data": {
      "image/png": "[encoded data removed]",
      "text/plain": [
       "<matplotlib.figure.Figure at 0x7fdfa4d962e8>"
      ]
     },
     "metadata": {},
     "output_type": "display_data"
    }
   ],
   "source": [
    "%matplotlib inline\n",
    "import numpy as np\n",
    "import matplotlib.pyplot as plt\n",
    "\n",
    "threads = []\n",
    "for worker in workers:\n",
    "    worker.max_steps = 10000\n",
    "    worker.urls = popup_urls\n",
    "    thread = threading.Thread(target=lambda: worker.run())\n",
    "    thread.start()\n",
    "    threads.append(thread)\n",
    "\n",
    "while True:\n",
    "    time.sleep(60)\n",
    "    \n",
    "    rewards = ActorLearnerWorker.step_rewards[:]\n",
    "    if len(rewards) > 0:\n",
    "        print('avg_reward:', sum(rewards) / len(rewards))\n",
    "    plt.plot(np.arange(len(rewards)), rewards)\n",
    "    plt.xlabel('episodes')\n",
    "    plt.ylabel('Reward')\n",
    "    plt.show()\n",
    "    \n",
    "coord.join(threads)"
   ]
  },
  {
   "cell_type": "code",
   "execution_count": null,
   "metadata": {},
   "outputs": [],
   "source": [
    "from tracing.rl.actor_learner import ActionsMemory\n",
    "from tracing.rl.environment import Environment\n",
    "from tracing.rl.actions import *\n",
    "from tracing.rl.a3cmodel import A3CModel\n",
    "from tracing.rl.rewards import PopupRewardsCalculator\n",
    "from tracing.rl.environment import Environment\n",
    "from tracing.rl.actor_learner import ActorLearnerWorker\n",
    "import tensorflow as tf\n",
    "import threading\n",
    "\n",
    "\n",
    "session.run(tf.global_variables_initializer())\n",
    "\n",
    "env = Environment(PopupRewardsCalculator(), user={}, headless=True)\n",
    "with env:\n",
    "    memory = ActionsMemory(0.99)\n",
    "    env.start('vape-fuel.com')\n",
    "    controls = env.get_controls()\n",
    "    worker = workers[0]\n",
    "    for ctrl in controls:\n",
    "        inp = env.get_control_as_input(ctrl)\n",
    "        action_id = worker.local_model.get_action(inp)\n",
    "\n",
    "        score = worker.local_model.estimate_score(inp)\n",
    "\n",
    "        memory.append(inp, 2, 0)\n",
    "\n",
    "    memory.set_final_score(100)"
   ]
  },
  {
   "cell_type": "code",
   "execution_count": null,
   "metadata": {},
   "outputs": [],
   "source": [
    "# Test Environment Images\n",
    "from PIL import Image\n",
    "import numpy as np\n",
    "from tracing.selenium_utils.common import *\n",
    "\n",
    "env = Environment(PopupRewardsCalculator(), user={}, headless=True)\n",
    "\n",
    "with env:\n",
    "    env.start('enhancedecigs.com')\n",
    "    ctrls = env.get_controls()\n",
    "    inps = []\n",
    "    for ctrl in ctrls:\n",
    "        memory = ActionsMemory(0.99)\n",
    "\n",
    "        inp = env.get_control_as_input(ctrl)\n",
    "        inps.append(inp)\n",
    "        memory.append(inp, 2, 0, ctrl)\n",
    "        \n",
    "batch = memory.to_input()\n",
    "\n",
    "for i, inp in enumerate(inps):\n",
    "    print(inp.shape)\n",
    "    rgb = (inp * 128 + 128).astype(np.uint8)\n",
    "    img = Image.fromarray(rgb, 'RGB')\n",
    "    img.save('img-{}.png'.format(i))"
   ]
  },
  {
   "cell_type": "code",
   "execution_count": null,
   "metadata": {},
   "outputs": [],
   "source": [
    "# Test Environment\n",
    "from tracing.selenium_utils.common import *\n",
    "\n",
    "env = Environment(PopupRewardsCalculator(), user={}, headless=False)\n",
    "\n",
    "with env:\n",
    "    env.start('enhancedecigs.com')\n",
    "\n",
    "    ctrls = env.get_controls()\n",
    "    assert len(ctrls) == 6\n",
    "\n",
    "    dayCtrl = ctrls[0]\n",
    "    monthCtrl = ctrls[1]\n",
    "    yearCtrl = ctrls[2]\n",
    "    check = ctrls[3]\n",
    "    enter = ctrls[5]\n",
    "\n",
    "    assert env.apply_action(dayCtrl, InputBDay()) == 0\n",
    "    assert env.apply_action(monthCtrl, InputBMonth()) == 0\n",
    "    assert env.apply_action(yearCtrl, InputBYear()) == 0\n",
    "    assert env.apply_action(check, Click()) == 0\n",
    "    assert env.apply_action(enter, Click()) == 100\n",
    "\n",
    "    assert env.calc_final_reward() == 0\n"
   ]
  },
  {
   "cell_type": "code",
   "execution_count": null,
   "metadata": {},
   "outputs": [],
   "source": [
    "# Test Popups Detecting\n",
    "\n",
    "import time\n",
    "\n",
    "rewards = PopupRewardsCalculator()\n",
    "\n",
    "driver = create_chrome_driver()\n",
    "\n",
    "for url in no_popup_urls:\n",
    "    print('url: ', url)\n",
    "    driver.get('http://' + url)\n",
    "    time.sleep(2)\n",
    "    assert not rewards.is_popup_exists(driver)\n",
    "\n",
    "for url in popup_urls:\n",
    "    print('url: ', url)\n",
    "    driver.get('http://' + url)\n",
    "    time.sleep(2)\n",
    "    assert rewards.is_popup_exists(driver)\n",
    "\n",
    "driver.quit()    "
   ]
  }
 ],
 "metadata": {
  "kernelspec": {
   "display_name": "Python 3",
   "language": "python",
   "name": "python3"
  },
  "language_info": {
   "codemirror_mode": {
    "name": "ipython",
    "version": 3
   },
   "file_extension": ".py",
   "mimetype": "text/x-python",
   "name": "python",
   "nbconvert_exporter": "python",
   "pygments_lexer": "ipython3",
   "version": "3.6.3"
  }
 },
 "nbformat": 4,
 "nbformat_minor": 2
}
