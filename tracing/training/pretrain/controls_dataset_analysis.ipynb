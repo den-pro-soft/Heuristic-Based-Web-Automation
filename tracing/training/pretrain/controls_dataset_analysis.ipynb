{
 "cells": [
  {
   "cell_type": "code",
   "execution_count": null,
   "metadata": {},
   "outputs": [],
   "source": [
    "import IPython.display as d\n",
    "import tabulate\n",
    "import json\n",
    "from tracing.rl.actions import *\n",
    "import os.path\n",
    "from pretrain_dataset import *"
   ]
  },
  {
   "cell_type": "code",
   "execution_count": null,
   "metadata": {},
   "outputs": [],
   "source": [
    "dataset = '../../../resources/controls_popups_dataset.jsonl'\n",
    "dataset_imgs_url = \"https://drive.google.com/open?id=1whS0cYpJVIhbGRdRpjkWuyj2rFLW3iEQ\"\n",
    "download_dataset_imgs_if_need(dataset_imgs_url)"
   ]
  },
  {
   "cell_type": "code",
   "execution_count": null,
   "metadata": {
    "scrolled": true
   },
   "outputs": [],
   "source": [
    "max_to_show = 100\n",
    "\n",
    "cnt = 0\n",
    "\n",
    "ctrl_id = 2 # Show Years\n",
    "with open(dataset) as f:\n",
    "    for line in f:\n",
    "            \n",
    "        info = json.loads(line)\n",
    "        file = info['img_file']\n",
    "        pa = info['possible_actions']\n",
    "        if pa[ctrl_id] == 0:\n",
    "            continue\n",
    "        \n",
    "        print(info)\n",
    "        if os.path.isfile(file):\n",
    "            d.display(d.Image(filename=file))\n",
    "            \n",
    "        cnt += 1\n",
    "        if cnt > max_to_show:\n",
    "            break\n",
    "        "
   ]
  },
  {
   "cell_type": "code",
   "execution_count": null,
   "metadata": {},
   "outputs": [],
   "source": [
    "actions_stat = {}\n",
    "actions_pair = {}\n",
    "\n",
    "with open(dataset) as f:\n",
    "    for line in f:\n",
    "        info = json.loads(line)\n",
    "        pa = info[\"possible_actions\"]\n",
    "        for action_id, is_possible in enumerate(pa):\n",
    "            if is_possible == 1:\n",
    "                actions_stat[action_id] = actions_stat.get(action_id, 0) + 1\n",
    "        \n",
    "        for i in range(len(pa)):\n",
    "            for j in range(len(pa)):\n",
    "                if pa[i] != 1 or pa[j] != 1:\n",
    "                    continue\n",
    "                \n",
    "                actions_pair[(i, j)] = actions_pair.get((i, j), 0) + 1\n",
    "    \n",
    "stat_table = []\n",
    "print(\"Possible actions statistics:\")\n",
    "for action_id, action in enumerate(Actions.actions):\n",
    "    cnt = actions_stat.get(action_id, 0)\n",
    "    stat_table.append([str(action), cnt])\n",
    "\n",
    "d.display(d.HTML(tabulate.tabulate(stat_table, tablefmt='html')))\n",
    "\n",
    "\n",
    "print('\\n\\nPairs of actions')\n",
    "pairs_table = []\n",
    "pairs_table.append([' '] + Actions.actions)\n",
    "\n",
    "for action_id, action in enumerate(Actions.actions):\n",
    "    pairs_table.append([str(action)])\n",
    "    \n",
    "    for action_id_2, _ in enumerate(Actions.actions):\n",
    "        cnt = actions_pair.get((action_id, action_id_2), 0)\n",
    "        pairs_table[action_id + 1].append(cnt)\n",
    "        \n",
    "d.display(d.HTML(tabulate.tabulate(pairs_table, tablefmt='html')))\n"
   ]
  }
 ],
 "metadata": {
  "kernelspec": {
   "display_name": "Python 3",
   "language": "python",
   "name": "python3"
  },
  "language_info": {
   "codemirror_mode": {
    "name": "ipython",
    "version": 3
   },
   "file_extension": ".py",
   "mimetype": "text/x-python",
   "name": "python",
   "nbconvert_exporter": "python",
   "pygments_lexer": "ipython3",
   "version": "3.6.3"
  }
 },
 "nbformat": 4,
 "nbformat_minor": 2
}
