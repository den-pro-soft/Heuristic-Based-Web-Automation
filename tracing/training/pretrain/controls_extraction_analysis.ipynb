{
 "cells": [
  {
   "cell_type": "code",
   "execution_count": null,
   "metadata": {},
   "outputs": [],
   "source": [
    "from IPython.display import display, Image\n",
    "\n",
    "cnt = 0\n",
    "with open('dataset.jsonl') as f:\n",
    "    for line in f:\n",
    "        cnt += 1\n",
    "        if cnt > 20:\n",
    "            break\n",
    "            \n",
    "        info = json.loads(line)\n",
    "        print(info)\n",
    "        file = info['img_file']\n",
    "        display(Image(filename=file))"
   ]
  }
 ],
 "metadata": {
  "kernelspec": {
   "display_name": "Python 3",
   "language": "python",
   "name": "python3"
  },
  "language_info": {
   "codemirror_mode": {
    "name": "ipython",
    "version": 3
   },
   "file_extension": ".py",
   "mimetype": "text/x-python",
   "name": "python",
   "nbconvert_exporter": "python",
   "pygments_lexer": "ipython3",
   "version": "3.6.3"
  }
 },
 "nbformat": 4,
 "nbformat_minor": 2
}
