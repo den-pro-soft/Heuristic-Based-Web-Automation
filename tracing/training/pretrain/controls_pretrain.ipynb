{
 "cells": [
  {
   "cell_type": "code",
   "execution_count": 1,
   "metadata": {},
   "outputs": [],
   "source": [
    "from tracing.rl.a3cmodel import A3CModel\n",
    "from tracing.rl.actions import *\n",
    "from tracing.selenium_utils.controls import Types\n",
    "\n",
    "from pretrain_dataset import *\n",
    "\n",
    "import tensorflow as tf\n",
    "import tensorflow_hub as hub\n",
    "\n",
    "import threading\n",
    "import json\n",
    "import random\n",
    "from scipy import misc\n",
    "import numpy as np\n",
    "import math\n",
    "import matplotlib.pyplot as plt\n",
    "import numpy as np\n",
    "import os\n",
    "import pandas as pd\n",
    "import re\n",
    "import seaborn as sns"
   ]
  },
  {
   "cell_type": "code",
   "execution_count": 2,
   "metadata": {},
   "outputs": [],
   "source": [
    "dataset = '../../../resources/controls_popups_dataset.jsonl'\n",
    "dataset_imgs_url = \"https://drive.google.com/open?id=1whS0cYpJVIhbGRdRpjkWuyj2rFLW3iEQ\"\n",
    "download_dataset_imgs_if_need(dataset_imgs_url)"
   ]
  },
  {
   "cell_type": "code",
   "execution_count": 3,
   "metadata": {},
   "outputs": [],
   "source": [
    "def split(arr, batch_size):\n",
    "    batch = []\n",
    "    for item in arr:\n",
    "        if len(batch) >= batch_size:\n",
    "            yield batch\n",
    "            batch = []\n",
    "\n",
    "        batch.append(item)\n",
    "\n",
    "    if len(batch) > 0:\n",
    "        yield batch\n",
    "        \n",
    "        \n",
    "def read_img(ctrl, size = 300):\n",
    "    img = misc.imread(ctrl['img_file'])\n",
    "    img = (img - 128.)/128.\n",
    "    shape = img.shape\n",
    "    assert shape[0] == size or shape[1] == size, 'found image {}, control {}'.format(shape, ctrl)\n",
    "    \n",
    "    return img"
   ]
  },
  {
   "cell_type": "code",
   "execution_count": 4,
   "metadata": {},
   "outputs": [],
   "source": [
    "class ControlPretrainModel:\n",
    "    # If session is not defined than default session will be used\n",
    "    def __init__(self, a3c_model, session, encoder):\n",
    "        self.word_repr = None\n",
    "        self.word_embeddings = None\n",
    "                \n",
    "        self.a3c_model = a3c_model\n",
    "        self.session = session \n",
    "        self.encoder = encoder\n",
    "        \n",
    "        self.device = '/cpu:0'\n",
    "        \n",
    "        self.build_graph()\n",
    "        \n",
    "        \n",
    "    def build_graph(self):\n",
    "        self.text_labels = tf.placeholder(tf.float32, shape=[None, 512], name=\"text_labels\")\n",
    "        self.actions_labels = tf.placeholder(tf.float32, \n",
    "                                  shape=[None, self.a3c_model.num_actions - 1], name=\"possible_labels\")\n",
    "        self.text_loss = tf.losses.mean_squared_error(self.text_labels, self.a3c_model.text_pretrain)\n",
    "        self.actions_loss = tf.nn.softmax_cross_entropy_with_logits_v2(\n",
    "            labels = self.actions_labels, \n",
    "            logits = self.a3c_model.logits)\n",
    "        \n",
    "        self.actions_loss = tf.reduce_mean(self.actions_loss)\n",
    "        \n",
    "        self.lr = tf.placeholder_with_default(0.001, shape=(), name=\"lr\")\n",
    "        self.opt = tf.train.AdamOptimizer(self.lr)\n",
    "        \n",
    "        self.train_text_op = self.opt.minimize(self.text_loss)\n",
    "        self.train_actions_op = self.opt.minimize(self.actions_loss)\n",
    "        \n",
    "        \n",
    "    def read_imgs(self, batch):\n",
    "        imgs = []\n",
    "        \n",
    "        for ctrl in batch:\n",
    "            imgs.append(read_img(ctrl))\n",
    "            \n",
    "        return imgs\n",
    "    \n",
    "        \n",
    "    def to_(self, batch):\n",
    "        text_vectors = self.encoder.encode(batch)\n",
    "        \n",
    "    \n",
    "    def get_text_input(self, batch, imgs, lr, l2, dropout = 0.8):\n",
    "        text_vectors = self.encoder.encode(batch)\n",
    "        return {\n",
    "            self.a3c_model.img: imgs,\n",
    "            self.text_labels: text_vectors,\n",
    "            self.lr: lr,\n",
    "            self.a3c_model.l2: l2,\n",
    "            self.a3c_model.dropout: dropout\n",
    "        }\n",
    "    \n",
    "    \n",
    "    def get_actions_input(self, batch, imgs, lr, l2, dropout = 0.8):\n",
    "        filtered_imgs = []\n",
    "        actions = []\n",
    "        for i, ctrl in enumerate(batch):\n",
    "            pa = ctrl['possible_actions']\n",
    "            if sum(pa) == 1:\n",
    "                filtered_imgs.append(imgs[i])\n",
    "                actions.append(pa)\n",
    "        \n",
    "        return {\n",
    "            self.a3c_model.img: filtered_imgs,\n",
    "            self.actions_labels: actions,\n",
    "            self.lr: lr,\n",
    "            self.a3c_model.l2: l2,\n",
    "            self.a3c_model.dropout: dropout\n",
    "        }\n",
    "        \n",
    "    \n",
    "    def train(self, controls, epoch_start = 0, epoch_end = 5, \n",
    "              batch_size = 10, lr = 0.001, l2 = 0.001):\n",
    "        \n",
    "        for epoch in range(epoch_start, epoch_end):\n",
    "            total = len(controls)\n",
    "            random.shuffle(controls)\n",
    "            \n",
    "            print('epoch {} started, examples: {}'.format(epoch, total))\n",
    "            sum_text_loss = 0\n",
    "            sum_actions_loss = 0\n",
    "            processed = 0\n",
    "            batches = 0\n",
    "            for batch in split(controls, batch_size):\n",
    "                imgs = self.read_imgs(batch)\n",
    "                text_feed = self.get_text_input(batch, imgs, lr, l2)\n",
    "                _, text_loss = self.session.run([self.train_text_op, self.text_loss], \n",
    "                                                feed_dict = text_feed)\n",
    "                \n",
    "                actions_feed = self.get_actions_input(batch, imgs, lr, l2)\n",
    "                _, actions_loss = self.session.run([self.train_actions_op, self.actions_loss], \n",
    "                                                   feed_dict = actions_feed)\n",
    "                \n",
    "                processed += len(batch)\n",
    "                print ('Processed: {:2.2%}, text loss: {}, actions loss {}'\n",
    "                       .format(processed/total, text_loss, actions_loss) , end=\"\\r\")\n",
    "                \n",
    "                sum_text_loss += text_loss\n",
    "                sum_actions_loss += actions_loss\n",
    "                batches += 1\n",
    "            \n",
    "            print('epoch ended')\n",
    "            print('text loss: {}, actions loss: {}'\n",
    "                  .format(sum_text_loss / batches, sum_actions_loss / batches))\n"
   ]
  },
  {
   "cell_type": "code",
   "execution_count": 5,
   "metadata": {},
   "outputs": [],
   "source": [
    "class CachedEncoder:\n",
    "    \n",
    "    # Cache all controls\n",
    "    def __init__(self, sentence_encoder, controls, session):\n",
    "        self.sentence_encoder = sentence_encoder\n",
    "        self.session = session\n",
    "        \n",
    "        self.cache = {}\n",
    "        self.init_cache(controls)\n",
    "        \n",
    "    \n",
    "    def get_text(self, source):\n",
    "        if source is None:\n",
    "            return None\n",
    "        \n",
    "        if isinstance(source, str):\n",
    "            text = source\n",
    "        elif 'label' not in source:\n",
    "            return None\n",
    "        else:\n",
    "            text = source['label']\n",
    "        \n",
    "        if not text:\n",
    "            return None\n",
    "\n",
    "        text = text.strip()\n",
    "        if not text:\n",
    "            return None\n",
    "        \n",
    "        return text\n",
    "    \n",
    "    \n",
    "    def init_cache(self, controls):\n",
    "\n",
    "        texts = []\n",
    "        \n",
    "        for ctrl in controls:\n",
    "            text = self.get_text(ctrl)\n",
    "            if text:\n",
    "                texts.append(text)\n",
    "        \n",
    "        texts = set(texts)\n",
    "        print('Going to add to cadhe {} texts: '.format(len(texts)))\n",
    "        \n",
    "        input_sentences = tf.placeholder(tf.string, shape=[None])\n",
    "        encode_op = self.sentence_encoder(input_sentences)\n",
    "\n",
    "        for batch in split(texts, 20):\n",
    "            embeddings = session.run(encode_op, feed_dict = {input_sentences: batch})\n",
    "            for i, text in enumerate(batch):\n",
    "                self.cache[text] = embeddings[i]\n",
    "            \n",
    "            del embeddings\n",
    "        \n",
    "        \n",
    "    def encode(self, controls):\n",
    "        result = []\n",
    "        for ctrl in controls:\n",
    "            text = self.get_text(ctrl)\n",
    "            assert text is not None\n",
    "\n",
    "            vec = self.cache.get(text)\n",
    "            if vec is None:\n",
    "                print('Not found vector for key: {}'.format(text))\n",
    "                \n",
    "            result.append(vec)\n",
    "        \n",
    "        return result"
   ]
  },
  {
   "cell_type": "code",
   "execution_count": 6,
   "metadata": {},
   "outputs": [
    {
     "name": "stdout",
     "output_type": "stream",
     "text": [
      "controls: 8275 to train: 6735\n"
     ]
    }
   ],
   "source": [
    "controls = []\n",
    "with open(dataset) as f:\n",
    "    for line in f:\n",
    "        ctrl = json.loads(line)\n",
    "        controls.append(ctrl)\n",
    "        \n",
    "to_train = [ctrl for ctrl in controls if ctrl['label'] and ctrl['label'].strip() != '']\n",
    "print('controls: {} to train: {}'.format(len(controls), len(to_train)))"
   ]
  },
  {
   "cell_type": "code",
   "execution_count": 7,
   "metadata": {
    "scrolled": true
   },
   "outputs": [
    {
     "name": "stdout",
     "output_type": "stream",
     "text": [
      "INFO:tensorflow:Using /home/aleksei/tf_hub_cache/ to cache modules.\n",
      "Going to add to cadhe 2192 texts: \n",
      "INFO:tensorflow:Saver not created because there are no variables in the graph to restore\n"
     ]
    }
   ],
   "source": [
    "with tf.Session() as session:\n",
    "    module_url = \"https://tfhub.dev/google/universal-sentence-encoder/2\"\n",
    "\n",
    "    # Import the Universal Sentence Encoder's TF Hub module\n",
    "    embed = hub.Module(module_url)\n",
    "    \n",
    "    session.run([tf.global_variables_initializer(), tf.tables_initializer()])\n",
    "    encoder = CachedEncoder(embed, to_train, session)"
   ]
  },
  {
   "cell_type": "code",
   "execution_count": 8,
   "metadata": {},
   "outputs": [],
   "source": [
    "def plot_similarity(labels, features, rotation):\n",
    "    corr = np.inner(features, features)\n",
    "    sns.set(font_scale=1.2)\n",
    "    g = sns.heatmap(\n",
    "        corr,\n",
    "        xticklabels=labels,\n",
    "        yticklabels=labels,\n",
    "        vmin=0,\n",
    "        vmax=1,\n",
    "        cmap=\"YlOrRd\")\n",
    "    g.set_xticklabels(labels, rotation=rotation)\n",
    "    g.set_title(\"Semantic Textual Similarity\")\n",
    "\n",
    "\n",
    "def run_and_plot(messages):\n",
    "    message_embeddings = encoder.encode(messages)\n",
    "    plot_similarity(messages, message_embeddings, 90)"
   ]
  },
  {
   "cell_type": "code",
   "execution_count": 9,
   "metadata": {},
   "outputs": [
    {
     "data": {
      "image/png": "[encoded data removed]",
      "text/plain": [
       "<matplotlib.figure.Figure at 0x7f29a753c438>"
      ]
     },
     "metadata": {},
     "output_type": "display_data"
    }
   ],
   "source": [
    "messages = [ctrl['label'] for ctrl in to_train[:10]]\n",
    "run_and_plot(messages)"
   ]
  },
  {
   "cell_type": "code",
   "execution_count": 10,
   "metadata": {},
   "outputs": [],
   "source": [
    "tf.reset_default_graph()\n",
    "session = tf.Session()"
   ]
  },
  {
   "cell_type": "code",
   "execution_count": 11,
   "metadata": {},
   "outputs": [],
   "source": [
    "a3c = A3CModel(len(Actions.actions), session = session, train_deep=True)\n",
    "model = ControlPretrainModel(a3c, session, encoder)\n",
    "\n",
    "session.run(tf.global_variables_initializer())\n",
    "saver = tf.train.Saver()"
   ]
  },
  {
   "cell_type": "code",
   "execution_count": 12,
   "metadata": {},
   "outputs": [
    {
     "name": "stdout",
     "output_type": "stream",
     "text": [
      "epoch 0 started, examples: 6735\n"
     ]
    },
    {
     "name": "stderr",
     "output_type": "stream",
     "text": [
      "/home/aleksei/.local/lib/python3.6/site-packages/ipykernel_launcher.py:15: DeprecationWarning: `imread` is deprecated!\n",
      "`imread` is deprecated in SciPy 1.0.0, and will be removed in 1.2.0.\n",
      "Use ``imageio.imread`` instead.\n",
      "  from ipykernel import kernelapp as app\n"
     ]
    },
    {
     "name": "stdout",
     "output_type": "stream",
     "text": [
      "Processed: 48.40%, text loss: 0.0019531247671693563, actions loss 0.37269932031631476\r"
     ]
    },
    {
     "ename": "KeyboardInterrupt",
     "evalue": "",
     "output_type": "error",
     "traceback": [
      "\u001b[0;31m---------------------------------------------------------------------------\u001b[0m",
      "\u001b[0;31mKeyboardInterrupt\u001b[0m                         Traceback (most recent call last)",
      "\u001b[0;32m<ipython-input-12-ef0fb55308c4>\u001b[0m in \u001b[0;36m<module>\u001b[0;34m()\u001b[0m\n\u001b[1;32m      3\u001b[0m             \u001b[0ml2\u001b[0m \u001b[0;34m=\u001b[0m \u001b[0;36m0.001\u001b[0m\u001b[0;34m,\u001b[0m\u001b[0;34m\u001b[0m\u001b[0m\n\u001b[1;32m      4\u001b[0m             \u001b[0mepoch_start\u001b[0m \u001b[0;34m=\u001b[0m \u001b[0mepoch\u001b[0m\u001b[0;34m,\u001b[0m\u001b[0;34m\u001b[0m\u001b[0m\n\u001b[0;32m----> 5\u001b[0;31m             epoch_end = epoch + 1, batch_size = 20)\n\u001b[0m\u001b[1;32m      6\u001b[0m \u001b[0;34m\u001b[0m\u001b[0m\n\u001b[1;32m      7\u001b[0m     \u001b[0msaver\u001b[0m\u001b[0;34m.\u001b[0m\u001b[0msave\u001b[0m\u001b[0;34m(\u001b[0m\u001b[0msession\u001b[0m\u001b[0;34m,\u001b[0m \u001b[0;34m'./checkpoints/pretrain_checkpoint-{}'\u001b[0m\u001b[0;34m.\u001b[0m\u001b[0mformat\u001b[0m\u001b[0;34m(\u001b[0m\u001b[0mepoch\u001b[0m\u001b[0;34m)\u001b[0m\u001b[0;34m)\u001b[0m\u001b[0;34m\u001b[0m\u001b[0m\n",
      "\u001b[0;32m<ipython-input-4-d2f5f6266ee0>\u001b[0m in \u001b[0;36mtrain\u001b[0;34m(self, controls, epoch_start, epoch_end, batch_size, lr, l2)\u001b[0m\n\u001b[1;32m     94\u001b[0m                 \u001b[0mactions_feed\u001b[0m \u001b[0;34m=\u001b[0m \u001b[0mself\u001b[0m\u001b[0;34m.\u001b[0m\u001b[0mget_actions_input\u001b[0m\u001b[0;34m(\u001b[0m\u001b[0mbatch\u001b[0m\u001b[0;34m,\u001b[0m \u001b[0mimgs\u001b[0m\u001b[0;34m,\u001b[0m \u001b[0mlr\u001b[0m\u001b[0;34m,\u001b[0m \u001b[0ml2\u001b[0m\u001b[0;34m)\u001b[0m\u001b[0;34m\u001b[0m\u001b[0m\n\u001b[1;32m     95\u001b[0m                 _, actions_loss = self.session.run([self.train_actions_op, self.actions_loss], \n\u001b[0;32m---> 96\u001b[0;31m                                                    feed_dict = actions_feed)\n\u001b[0m\u001b[1;32m     97\u001b[0m \u001b[0;34m\u001b[0m\u001b[0m\n\u001b[1;32m     98\u001b[0m                 \u001b[0mprocessed\u001b[0m \u001b[0;34m+=\u001b[0m \u001b[0mlen\u001b[0m\u001b[0;34m(\u001b[0m\u001b[0mbatch\u001b[0m\u001b[0;34m)\u001b[0m\u001b[0;34m\u001b[0m\u001b[0m\n",
      "\u001b[0;32m~/anaconda3/lib/python3.6/site-packages/tensorflow/python/client/session.py\u001b[0m in \u001b[0;36mrun\u001b[0;34m(self, fetches, feed_dict, options, run_metadata)\u001b[0m\n\u001b[1;32m    885\u001b[0m     \u001b[0;32mtry\u001b[0m\u001b[0;34m:\u001b[0m\u001b[0;34m\u001b[0m\u001b[0m\n\u001b[1;32m    886\u001b[0m       result = self._run(None, fetches, feed_dict, options_ptr,\n\u001b[0;32m--> 887\u001b[0;31m                          run_metadata_ptr)\n\u001b[0m\u001b[1;32m    888\u001b[0m       \u001b[0;32mif\u001b[0m \u001b[0mrun_metadata\u001b[0m\u001b[0;34m:\u001b[0m\u001b[0;34m\u001b[0m\u001b[0m\n\u001b[1;32m    889\u001b[0m         \u001b[0mproto_data\u001b[0m \u001b[0;34m=\u001b[0m \u001b[0mtf_session\u001b[0m\u001b[0;34m.\u001b[0m\u001b[0mTF_GetBuffer\u001b[0m\u001b[0;34m(\u001b[0m\u001b[0mrun_metadata_ptr\u001b[0m\u001b[0;34m)\u001b[0m\u001b[0;34m\u001b[0m\u001b[0m\n",
      "\u001b[0;32m~/anaconda3/lib/python3.6/site-packages/tensorflow/python/client/session.py\u001b[0m in \u001b[0;36m_run\u001b[0;34m(self, handle, fetches, feed_dict, options, run_metadata)\u001b[0m\n\u001b[1;32m   1108\u001b[0m     \u001b[0;32mif\u001b[0m \u001b[0mfinal_fetches\u001b[0m \u001b[0;32mor\u001b[0m \u001b[0mfinal_targets\u001b[0m \u001b[0;32mor\u001b[0m \u001b[0;34m(\u001b[0m\u001b[0mhandle\u001b[0m \u001b[0;32mand\u001b[0m \u001b[0mfeed_dict_tensor\u001b[0m\u001b[0;34m)\u001b[0m\u001b[0;34m:\u001b[0m\u001b[0;34m\u001b[0m\u001b[0m\n\u001b[1;32m   1109\u001b[0m       results = self._do_run(handle, final_targets, final_fetches,\n\u001b[0;32m-> 1110\u001b[0;31m                              feed_dict_tensor, options, run_metadata)\n\u001b[0m\u001b[1;32m   1111\u001b[0m     \u001b[0;32melse\u001b[0m\u001b[0;34m:\u001b[0m\u001b[0;34m\u001b[0m\u001b[0m\n\u001b[1;32m   1112\u001b[0m       \u001b[0mresults\u001b[0m \u001b[0;34m=\u001b[0m \u001b[0;34m[\u001b[0m\u001b[0;34m]\u001b[0m\u001b[0;34m\u001b[0m\u001b[0m\n",
      "\u001b[0;32m~/anaconda3/lib/python3.6/site-packages/tensorflow/python/client/session.py\u001b[0m in \u001b[0;36m_do_run\u001b[0;34m(self, handle, target_list, fetch_list, feed_dict, options, run_metadata)\u001b[0m\n\u001b[1;32m   1284\u001b[0m     \u001b[0;32mif\u001b[0m \u001b[0mhandle\u001b[0m \u001b[0;32mis\u001b[0m \u001b[0;32mNone\u001b[0m\u001b[0;34m:\u001b[0m\u001b[0;34m\u001b[0m\u001b[0m\n\u001b[1;32m   1285\u001b[0m       return self._do_call(_run_fn, feeds, fetches, targets, options,\n\u001b[0;32m-> 1286\u001b[0;31m                            run_metadata)\n\u001b[0m\u001b[1;32m   1287\u001b[0m     \u001b[0;32melse\u001b[0m\u001b[0;34m:\u001b[0m\u001b[0;34m\u001b[0m\u001b[0m\n\u001b[1;32m   1288\u001b[0m       \u001b[0;32mreturn\u001b[0m \u001b[0mself\u001b[0m\u001b[0;34m.\u001b[0m\u001b[0m_do_call\u001b[0m\u001b[0;34m(\u001b[0m\u001b[0m_prun_fn\u001b[0m\u001b[0;34m,\u001b[0m \u001b[0mhandle\u001b[0m\u001b[0;34m,\u001b[0m \u001b[0mfeeds\u001b[0m\u001b[0;34m,\u001b[0m \u001b[0mfetches\u001b[0m\u001b[0;34m)\u001b[0m\u001b[0;34m\u001b[0m\u001b[0m\n",
      "\u001b[0;32m~/anaconda3/lib/python3.6/site-packages/tensorflow/python/client/session.py\u001b[0m in \u001b[0;36m_do_call\u001b[0;34m(self, fn, *args)\u001b[0m\n\u001b[1;32m   1290\u001b[0m   \u001b[0;32mdef\u001b[0m \u001b[0m_do_call\u001b[0m\u001b[0;34m(\u001b[0m\u001b[0mself\u001b[0m\u001b[0;34m,\u001b[0m \u001b[0mfn\u001b[0m\u001b[0;34m,\u001b[0m \u001b[0;34m*\u001b[0m\u001b[0margs\u001b[0m\u001b[0;34m)\u001b[0m\u001b[0;34m:\u001b[0m\u001b[0;34m\u001b[0m\u001b[0m\n\u001b[1;32m   1291\u001b[0m     \u001b[0;32mtry\u001b[0m\u001b[0;34m:\u001b[0m\u001b[0;34m\u001b[0m\u001b[0m\n\u001b[0;32m-> 1292\u001b[0;31m       \u001b[0;32mreturn\u001b[0m \u001b[0mfn\u001b[0m\u001b[0;34m(\u001b[0m\u001b[0;34m*\u001b[0m\u001b[0margs\u001b[0m\u001b[0;34m)\u001b[0m\u001b[0;34m\u001b[0m\u001b[0m\n\u001b[0m\u001b[1;32m   1293\u001b[0m     \u001b[0;32mexcept\u001b[0m \u001b[0merrors\u001b[0m\u001b[0;34m.\u001b[0m\u001b[0mOpError\u001b[0m \u001b[0;32mas\u001b[0m \u001b[0me\u001b[0m\u001b[0;34m:\u001b[0m\u001b[0;34m\u001b[0m\u001b[0m\n\u001b[1;32m   1294\u001b[0m       \u001b[0mmessage\u001b[0m \u001b[0;34m=\u001b[0m \u001b[0mcompat\u001b[0m\u001b[0;34m.\u001b[0m\u001b[0mas_text\u001b[0m\u001b[0;34m(\u001b[0m\u001b[0me\u001b[0m\u001b[0;34m.\u001b[0m\u001b[0mmessage\u001b[0m\u001b[0;34m)\u001b[0m\u001b[0;34m\u001b[0m\u001b[0m\n",
      "\u001b[0;32m~/anaconda3/lib/python3.6/site-packages/tensorflow/python/client/session.py\u001b[0m in \u001b[0;36m_run_fn\u001b[0;34m(feed_dict, fetch_list, target_list, options, run_metadata)\u001b[0m\n\u001b[1;32m   1275\u001b[0m       \u001b[0mself\u001b[0m\u001b[0;34m.\u001b[0m\u001b[0m_extend_graph\u001b[0m\u001b[0;34m(\u001b[0m\u001b[0;34m)\u001b[0m\u001b[0;34m\u001b[0m\u001b[0m\n\u001b[1;32m   1276\u001b[0m       return self._call_tf_sessionrun(\n\u001b[0;32m-> 1277\u001b[0;31m           options, feed_dict, fetch_list, target_list, run_metadata)\n\u001b[0m\u001b[1;32m   1278\u001b[0m \u001b[0;34m\u001b[0m\u001b[0m\n\u001b[1;32m   1279\u001b[0m     \u001b[0;32mdef\u001b[0m \u001b[0m_prun_fn\u001b[0m\u001b[0;34m(\u001b[0m\u001b[0mhandle\u001b[0m\u001b[0;34m,\u001b[0m \u001b[0mfeed_dict\u001b[0m\u001b[0;34m,\u001b[0m \u001b[0mfetch_list\u001b[0m\u001b[0;34m)\u001b[0m\u001b[0;34m:\u001b[0m\u001b[0;34m\u001b[0m\u001b[0m\n",
      "\u001b[0;32m~/anaconda3/lib/python3.6/site-packages/tensorflow/python/client/session.py\u001b[0m in \u001b[0;36m_call_tf_sessionrun\u001b[0;34m(self, options, feed_dict, fetch_list, target_list, run_metadata)\u001b[0m\n\u001b[1;32m   1365\u001b[0m     return tf_session.TF_SessionRun_wrapper(\n\u001b[1;32m   1366\u001b[0m         \u001b[0mself\u001b[0m\u001b[0;34m.\u001b[0m\u001b[0m_session\u001b[0m\u001b[0;34m,\u001b[0m \u001b[0moptions\u001b[0m\u001b[0;34m,\u001b[0m \u001b[0mfeed_dict\u001b[0m\u001b[0;34m,\u001b[0m \u001b[0mfetch_list\u001b[0m\u001b[0;34m,\u001b[0m \u001b[0mtarget_list\u001b[0m\u001b[0;34m,\u001b[0m\u001b[0;34m\u001b[0m\u001b[0m\n\u001b[0;32m-> 1367\u001b[0;31m         run_metadata)\n\u001b[0m\u001b[1;32m   1368\u001b[0m \u001b[0;34m\u001b[0m\u001b[0m\n\u001b[1;32m   1369\u001b[0m   \u001b[0;32mdef\u001b[0m \u001b[0m_call_tf_sessionprun\u001b[0m\u001b[0;34m(\u001b[0m\u001b[0mself\u001b[0m\u001b[0;34m,\u001b[0m \u001b[0mhandle\u001b[0m\u001b[0;34m,\u001b[0m \u001b[0mfeed_dict\u001b[0m\u001b[0;34m,\u001b[0m \u001b[0mfetch_list\u001b[0m\u001b[0;34m)\u001b[0m\u001b[0;34m:\u001b[0m\u001b[0;34m\u001b[0m\u001b[0m\n",
      "\u001b[0;31mKeyboardInterrupt\u001b[0m: "
     ]
    }
   ],
   "source": [
    "for epoch in range(5):\n",
    "    model.train(to_train, lr=0.001, \n",
    "            l2 = 0.001, \n",
    "            epoch_start = epoch, \n",
    "            epoch_end = epoch + 1, batch_size = 20)\n",
    "    \n",
    "    saver.save(session, './checkpoints/pretrain_checkpoint-{}'.format(epoch))"
   ]
  },
  {
   "cell_type": "code",
   "execution_count": 13,
   "metadata": {},
   "outputs": [
    {
     "data": {
      "text/plain": [
       "'./checkpoints/pretrain_checkpoint-0'"
      ]
     },
     "execution_count": 13,
     "metadata": {},
     "output_type": "execute_result"
    }
   ],
   "source": [
    "saver.save(session, './checkpoints/pretrain_checkpoint-{}'.format(epoch))"
   ]
  }
 ],
 "metadata": {
  "kernelspec": {
   "display_name": "Python 3",
   "language": "python",
   "name": "python3"
  },
  "language_info": {
   "codemirror_mode": {
    "name": "ipython",
    "version": 3
   },
   "file_extension": ".py",
   "mimetype": "text/x-python",
   "name": "python",
   "nbconvert_exporter": "python",
   "pygments_lexer": "ipython3",
   "version": "3.6.3"
  }
 },
 "nbformat": 4,
 "nbformat_minor": 2
}
