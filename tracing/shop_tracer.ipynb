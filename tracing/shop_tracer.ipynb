{
 "cells": [
  {
   "cell_type": "code",
   "execution_count": null,
   "metadata": {},
   "outputs": [],
   "source": [
    "import random\n",
    "import csv\n",
    "import logging\n",
    "\n",
    "from shop_tracer import *\n",
    "from selenium_helper import *\n",
    "from status import *\n",
    "\n",
    "import trace_logger\n",
    "import common_actors\n",
    "import user_data\n",
    "\n",
    "from contextlib import contextmanager"
   ]
  },
  {
   "cell_type": "markdown",
   "metadata": {},
   "source": [
    "### Prepare different urls to analyze"
   ]
  },
  {
   "cell_type": "code",
   "execution_count": null,
   "metadata": {},
   "outputs": [],
   "source": [
    "# All urls\n",
    "all_urls = []\n",
    "with open('../resources/pvio_vio_us_ca_uk_sample1.csv', 'r') as f:\n",
    "    rows = csv.reader(f)\n",
    "    for row in rows:\n",
    "        url = row[0]\n",
    "        if url:\n",
    "            all_urls.append(url)\n",
    "\n",
    "# Random sample urls\n",
    "random.seed(1)\n",
    "sample_urls = random.sample(all_urls, 100)\n",
    "\n",
    "# Some good urls to analyze by hands\n",
    "good_urls = [\n",
    "    'theglamourshop.com',\n",
    "    'dixieems.com',\n",
    "    'firstfitness.com',\n",
    "    'sandlakedermatology.com',\n",
    "    'dixieems.com',\n",
    "    'anabolicwarfare.com',\n",
    "    'vape-fuel.com',\n",
    "    'jonessurgical.com',\n",
    "    'srandd.com',\n",
    "    'ambarygardens.com'\n",
    "]\n",
    "\n",
    "complex_buy_urls = [\n",
    "    'escobarcigars.com' # buy now\n",
    "]\n",
    "\n",
    "# Shops with complex popups\n",
    "popup_urls = [\n",
    "    # Choose from two options popups\n",
    "    'monstervape.com',\n",
    "    'twistedcigs.com',\n",
    "    'ecigsejuice.com',\n",
    "    'vape-fuel.com',\n",
    "    'powervapes.net',\n",
    "    'ecigexpress.com',\n",
    "    'ecigvaporstore.com',\n",
    "    \n",
    "    # Subscribe\n",
    "    'cigarmanor.com',\n",
    "    \n",
    "    # Enter date popups\n",
    "    'thecigarshop.com',\n",
    "    'cigartowns.com',\n",
    "    'docssmokeshop.com',\n",
    "    'enhancedecigs.com',\n",
    "    'betamorphecigs.com'\n",
    "]\n"
   ]
  },
  {
   "cell_type": "code",
   "execution_count": null,
   "metadata": {},
   "outputs": [],
   "source": [
    "selenium_path = '/usr/bin/chromedriver'\n",
    "\n",
    "@contextmanager\n",
    "def get_tracer(headless = False):\n",
    "    logger = trace_logger.FileTraceLogger('results.jsonl', 'images')\n",
    "\n",
    "    global user_info, billing_info, selinium_path\n",
    "    tracer = ShopTracer(user_data.get_user_data,\n",
    "                          selenium_path, \n",
    "                          headless = headless, \n",
    "                          trace_logger = logger)\n",
    "    common_actors.add_tracer_extensions(tracer)\n",
    "    \n",
    "    yield tracer\n",
    "\n",
    "def get_driver(headless = False):\n",
    "    global selenium_path   \n",
    "    return create_chrome_driver(selenium_path, headless = headless)\n"
   ]
  },
  {
   "cell_type": "markdown",
   "metadata": {},
   "source": [
    "### Set up logging level"
   ]
  },
  {
   "cell_type": "code",
   "execution_count": null,
   "metadata": {},
   "outputs": [],
   "source": [
    "logger = logging.getLogger('shop_tracer')\n",
    "logger.setLevel(logging.DEBUG)\n",
    "\n",
    "handler = logging.StreamHandler()\n",
    "formatter = logging.Formatter(\n",
    "        '%(asctime)s %(name)-12s %(levelname)-8s %(message)s')\n",
    "handler.setFormatter(formatter)\n",
    "logger.addHandler(handler)"
   ]
  },
  {
   "cell_type": "markdown",
   "metadata": {},
   "source": [
    "### Start tracing urls"
   ]
  },
  {
   "cell_type": "code",
   "execution_count": null,
   "metadata": {},
   "outputs": [],
   "source": [
    "# ToDo remove before merge\n",
    "import csv\n",
    "\n",
    "urls_to_test = []\n",
    "with open('../resources/url_states.csv') as f:\n",
    "    reader = csv.reader(f, delimiter='\\t', quotechar='\\\\')\n",
    "    for row in reader:\n",
    "        url, status = row\n",
    "        if status == \"checkout_page\" or status == \"purchased\":\n",
    "            urls_to_test.append(url)\n"
   ]
  },
  {
   "cell_type": "code",
   "execution_count": null,
   "metadata": {
    "scrolled": true
   },
   "outputs": [],
   "source": [
    "results = []\n",
    "\n",
    "with get_tracer() as tracer:\n",
    "    for url in urls_to_test:\n",
    "        print('\\n\\n{}'.format(url))\n",
    "        status = tracer.trace(url, attempts=3)\n",
    "        print(status)\n",
    "        results.append(status)\n"
   ]
  },
  {
   "cell_type": "code",
   "execution_count": null,
   "metadata": {},
   "outputs": [],
   "source": [
    "states = {}\n",
    "for status in results:\n",
    "    if isinstance(status, ProcessingStatus):\n",
    "        states[status.state] = states.get(status.state, 0) + 1\n",
    "        \n",
    "print(states)"
   ]
  },
  {
   "cell_type": "code",
   "execution_count": null,
   "metadata": {
    "scrolled": true
   },
   "outputs": [],
   "source": [
    "import json\n",
    "from IPython.core.display import Image, display\n",
    "\n",
    "with open('results.jsonl', 'r') as f:\n",
    "    for line in f:\n",
    "        trace = json.loads(line)\n",
    "        print('\\n\\n{} - {}'.format(trace['domain'], trace['status']['state']))\n",
    "        for step in trace['steps']:\n",
    "            print('url: {} state: {} handler: {}'.format(step['url'], step['state'], step['handler']))\n",
    "            display(Image(step['screen_path'], width=640, unconfined=True))"
   ]
  }
 ],
 "metadata": {
  "kernelspec": {
   "display_name": "Python 3",
   "language": "python",
   "name": "python3"
  },
  "language_info": {
   "codemirror_mode": {
    "name": "ipython",
    "version": 3
   },
   "file_extension": ".py",
   "mimetype": "text/x-python",
   "name": "python",
   "nbconvert_exporter": "python",
   "pygments_lexer": "ipython3",
   "version": "3.6.3"
  }
 },
 "nbformat": 4,
 "nbformat_minor": 2
}
